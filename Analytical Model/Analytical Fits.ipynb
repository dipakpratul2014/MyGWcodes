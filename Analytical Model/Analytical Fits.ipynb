{
 "cells": [
  {
   "cell_type": "code",
   "execution_count": 28,
   "id": "142e0a72",
   "metadata": {},
   "outputs": [],
   "source": [
    "import pylab\n",
    "import h5py\n",
    "import math\n",
    "import array\n",
    "from numpy import *\n",
    "import numpy as np\n",
    "from pycbc.types import TimeSeries, FrequencySeries\n",
    "from pycbc.waveform import get_td_waveform, get_fd_waveform\n",
    "from pycbc.waveform.waveform_modes import get_td_waveform_modes\n",
    "from pycbc import types, fft, waveform\n",
    "import lal\n",
    "from scipy import interpolate\n",
    "from scipy.interpolate import interp1d\n",
    "from lal import MSUN_SI, MTSUN_SI, G_SI, PC_SI, C_SI, PI\n",
    "from pycbc.filter import match\n",
    "from pycbc.psd import aLIGOZeroDetHighPower\n",
    "from tqdm import tqdm#\n",
    "\n",
    "import pandas as pd\n",
    "import matplotlib as mpl\n",
    "\n",
    " \n",
    "from matplotlib import gridspec\n",
    "from matplotlib import ticker\n",
    "\n",
    "import matplotlib.pyplot as plt\n"
   ]
  },
  {
   "cell_type": "code",
   "execution_count": 29,
   "id": "955f9a28",
   "metadata": {},
   "outputs": [
    {
     "data": {
      "text/html": [
       "<style type=\"text/css\">\n",
       "</style>\n",
       "<table id=\"T_38dca\">\n",
       "  <thead>\n",
       "    <tr>\n",
       "      <th class=\"blank level0\" >&nbsp;</th>\n",
       "      <th id=\"T_38dca_level0_col0\" class=\"col_heading level0 col0\" >Hybrid</th>\n",
       "      <th id=\"T_38dca_level0_col1\" class=\"col_heading level0 col1\" >q</th>\n",
       "      <th id=\"T_38dca_level0_col2\" class=\"col_heading level0 col2\" >eta</th>\n",
       "      <th id=\"T_38dca_level0_col3\" class=\"col_heading level0 col3\" >tshift</th>\n",
       "      <th id=\"T_38dca_level0_col4\" class=\"col_heading level0 col4\" >tmatch_amp</th>\n",
       "      <th id=\"T_38dca_level0_col5\" class=\"col_heading level0 col5\" >tmatch_freq</th>\n",
       "      <th id=\"T_38dca_level0_col6\" class=\"col_heading level0 col6\" >l0</th>\n",
       "      <th id=\"T_38dca_level0_col7\" class=\"col_heading level0 col7\" >e0</th>\n",
       "      <th id=\"T_38dca_level0_col8\" class=\"col_heading level0 col8\" >f0</th>\n",
       "      <th id=\"T_38dca_level0_col9\" class=\"col_heading level0 col9\" >Match_Num</th>\n",
       "      <th id=\"T_38dca_level0_col10\" class=\"col_heading level0 col10\" >Match_Anly</th>\n",
       "    </tr>\n",
       "  </thead>\n",
       "  <tbody>\n",
       "    <tr>\n",
       "      <th id=\"T_38dca_level0_row0\" class=\"row_heading level0 row0\" >0</th>\n",
       "      <td id=\"T_38dca_row0_col0\" class=\"data row0 col0\" >1355.000000</td>\n",
       "      <td id=\"T_38dca_row0_col1\" class=\"data row0 col1\" >1.000000</td>\n",
       "      <td id=\"T_38dca_row0_col2\" class=\"data row0 col2\" >0.250000</td>\n",
       "      <td id=\"T_38dca_row0_col3\" class=\"data row0 col3\" >-60.000000</td>\n",
       "      <td id=\"T_38dca_row0_col4\" class=\"data row0 col4\" >-61.131040</td>\n",
       "      <td id=\"T_38dca_row0_col5\" class=\"data row0 col5\" >-1270.259460</td>\n",
       "      <td id=\"T_38dca_row0_col6\" class=\"data row0 col6\" >1.423000</td>\n",
       "      <td id=\"T_38dca_row0_col7\" class=\"data row0 col7\" >0.173000</td>\n",
       "      <td id=\"T_38dca_row0_col8\" class=\"data row0 col8\" >16.530000</td>\n",
       "      <td id=\"T_38dca_row0_col9\" class=\"data row0 col9\" >99.780000</td>\n",
       "      <td id=\"T_38dca_row0_col10\" class=\"data row0 col10\" >99.780000</td>\n",
       "    </tr>\n",
       "    <tr>\n",
       "      <th id=\"T_38dca_level0_row1\" class=\"row_heading level0 row1\" >1</th>\n",
       "      <td id=\"T_38dca_row1_col0\" class=\"data row1 col0\" >1356.000000</td>\n",
       "      <td id=\"T_38dca_row1_col1\" class=\"data row1 col1\" >1.000000</td>\n",
       "      <td id=\"T_38dca_row1_col2\" class=\"data row1 col2\" >0.250000</td>\n",
       "      <td id=\"T_38dca_row1_col3\" class=\"data row1 col3\" >35.000000</td>\n",
       "      <td id=\"T_38dca_row1_col4\" class=\"data row1 col4\" >-30.279200</td>\n",
       "      <td id=\"T_38dca_row1_col5\" class=\"data row1 col5\" >-3369.344140</td>\n",
       "      <td id=\"T_38dca_row1_col6\" class=\"data row1 col6\" >1.574000</td>\n",
       "      <td id=\"T_38dca_row1_col7\" class=\"data row1 col7\" >0.230000</td>\n",
       "      <td id=\"T_38dca_row1_col8\" class=\"data row1 col8\" >15.630000</td>\n",
       "      <td id=\"T_38dca_row1_col9\" class=\"data row1 col9\" >97.540000</td>\n",
       "      <td id=\"T_38dca_row1_col10\" class=\"data row1 col10\" >97.540000</td>\n",
       "    </tr>\n",
       "    <tr>\n",
       "      <th id=\"T_38dca_level0_row2\" class=\"row_heading level0 row2\" >2</th>\n",
       "      <td id=\"T_38dca_row2_col0\" class=\"data row2 col0\" >1358.000000</td>\n",
       "      <td id=\"T_38dca_row2_col1\" class=\"data row2 col1\" >1.000000</td>\n",
       "      <td id=\"T_38dca_row2_col2\" class=\"data row2 col2\" >0.250000</td>\n",
       "      <td id=\"T_38dca_row2_col3\" class=\"data row2 col3\" >-50.000000</td>\n",
       "      <td id=\"T_38dca_row2_col4\" class=\"data row2 col4\" >-50.872680</td>\n",
       "      <td id=\"T_38dca_row2_col5\" class=\"data row2 col5\" >-545.853330</td>\n",
       "      <td id=\"T_38dca_row2_col6\" class=\"data row2 col6\" >-2.682000</td>\n",
       "      <td id=\"T_38dca_row2_col7\" class=\"data row2 col7\" >0.322000</td>\n",
       "      <td id=\"T_38dca_row2_col8\" class=\"data row2 col8\" >13.510000</td>\n",
       "      <td id=\"T_38dca_row2_col9\" class=\"data row2 col9\" >99.280000</td>\n",
       "      <td id=\"T_38dca_row2_col10\" class=\"data row2 col10\" >99.280000</td>\n",
       "    </tr>\n",
       "    <tr>\n",
       "      <th id=\"T_38dca_level0_row3\" class=\"row_heading level0 row3\" >3</th>\n",
       "      <td id=\"T_38dca_row3_col0\" class=\"data row3 col0\" >1359.000000</td>\n",
       "      <td id=\"T_38dca_row3_col1\" class=\"data row3 col1\" >1.000000</td>\n",
       "      <td id=\"T_38dca_row3_col2\" class=\"data row3 col2\" >0.250000</td>\n",
       "      <td id=\"T_38dca_row3_col3\" class=\"data row3 col3\" >-75.000000</td>\n",
       "      <td id=\"T_38dca_row3_col4\" class=\"data row3 col4\" >-75.914410</td>\n",
       "      <td id=\"T_38dca_row3_col5\" class=\"data row3 col5\" >-931.065740</td>\n",
       "      <td id=\"T_38dca_row3_col6\" class=\"data row3 col6\" >1.834000</td>\n",
       "      <td id=\"T_38dca_row3_col7\" class=\"data row3 col7\" >0.317000</td>\n",
       "      <td id=\"T_38dca_row3_col8\" class=\"data row3 col8\" >13.920000</td>\n",
       "      <td id=\"T_38dca_row3_col9\" class=\"data row3 col9\" >98.980000</td>\n",
       "      <td id=\"T_38dca_row3_col10\" class=\"data row3 col10\" >98.980000</td>\n",
       "    </tr>\n",
       "    <tr>\n",
       "      <th id=\"T_38dca_level0_row4\" class=\"row_heading level0 row4\" >4</th>\n",
       "      <td id=\"T_38dca_row4_col0\" class=\"data row4 col0\" >1360.000000</td>\n",
       "      <td id=\"T_38dca_row4_col1\" class=\"data row4 col1\" >1.000000</td>\n",
       "      <td id=\"T_38dca_row4_col2\" class=\"data row4 col2\" >0.250000</td>\n",
       "      <td id=\"T_38dca_row4_col3\" class=\"data row4 col3\" >85.000000</td>\n",
       "      <td id=\"T_38dca_row4_col4\" class=\"data row4 col4\" >-50.203760</td>\n",
       "      <td id=\"T_38dca_row4_col5\" class=\"data row4 col5\" >-2168.937350</td>\n",
       "      <td id=\"T_38dca_row4_col6\" class=\"data row4 col6\" >-0.395000</td>\n",
       "      <td id=\"T_38dca_row4_col7\" class=\"data row4 col7\" >0.416000</td>\n",
       "      <td id=\"T_38dca_row4_col8\" class=\"data row4 col8\" >12.180000</td>\n",
       "      <td id=\"T_38dca_row4_col9\" class=\"data row4 col9\" >98.010000</td>\n",
       "      <td id=\"T_38dca_row4_col10\" class=\"data row4 col10\" >98.010000</td>\n",
       "    </tr>\n",
       "    <tr>\n",
       "      <th id=\"T_38dca_level0_row5\" class=\"row_heading level0 row5\" >5</th>\n",
       "      <td id=\"T_38dca_row5_col0\" class=\"data row5 col0\" >1361.000000</td>\n",
       "      <td id=\"T_38dca_row5_col1\" class=\"data row5 col1\" >1.000000</td>\n",
       "      <td id=\"T_38dca_row5_col2\" class=\"data row5 col2\" >0.250000</td>\n",
       "      <td id=\"T_38dca_row5_col3\" class=\"data row5 col3\" >90.000000</td>\n",
       "      <td id=\"T_38dca_row5_col4\" class=\"data row5 col4\" >-55.092810</td>\n",
       "      <td id=\"T_38dca_row5_col5\" class=\"data row5 col5\" >-2012.105460</td>\n",
       "      <td id=\"T_38dca_row5_col6\" class=\"data row5 col6\" >-1.019000</td>\n",
       "      <td id=\"T_38dca_row5_col7\" class=\"data row5 col7\" >0.416000</td>\n",
       "      <td id=\"T_38dca_row5_col8\" class=\"data row5 col8\" >11.950000</td>\n",
       "      <td id=\"T_38dca_row5_col9\" class=\"data row5 col9\" >97.680000</td>\n",
       "      <td id=\"T_38dca_row5_col10\" class=\"data row5 col10\" >97.680000</td>\n",
       "    </tr>\n",
       "    <tr>\n",
       "      <th id=\"T_38dca_level0_row6\" class=\"row_heading level0 row6\" >6</th>\n",
       "      <td id=\"T_38dca_row6_col0\" class=\"data row6 col0\" >1364.000000</td>\n",
       "      <td id=\"T_38dca_row6_col1\" class=\"data row6 col1\" >2.000000</td>\n",
       "      <td id=\"T_38dca_row6_col2\" class=\"data row6 col2\" >0.222220</td>\n",
       "      <td id=\"T_38dca_row6_col3\" class=\"data row6 col3\" >0.000000</td>\n",
       "      <td id=\"T_38dca_row6_col4\" class=\"data row6 col4\" >-30.131180</td>\n",
       "      <td id=\"T_38dca_row6_col5\" class=\"data row6 col5\" >-4376.080050</td>\n",
       "      <td id=\"T_38dca_row6_col6\" class=\"data row6 col6\" >-0.181000</td>\n",
       "      <td id=\"T_38dca_row6_col7\" class=\"data row6 col7\" >0.172000</td>\n",
       "      <td id=\"T_38dca_row6_col8\" class=\"data row6 col8\" >16.680000</td>\n",
       "      <td id=\"T_38dca_row6_col9\" class=\"data row6 col9\" >98.930000</td>\n",
       "      <td id=\"T_38dca_row6_col10\" class=\"data row6 col10\" >98.930000</td>\n",
       "    </tr>\n",
       "    <tr>\n",
       "      <th id=\"T_38dca_level0_row7\" class=\"row_heading level0 row7\" >7</th>\n",
       "      <td id=\"T_38dca_row7_col0\" class=\"data row7 col0\" >1365.000000</td>\n",
       "      <td id=\"T_38dca_row7_col1\" class=\"data row7 col1\" >2.000000</td>\n",
       "      <td id=\"T_38dca_row7_col2\" class=\"data row7 col2\" >0.222220</td>\n",
       "      <td id=\"T_38dca_row7_col3\" class=\"data row7 col3\" >85.000000</td>\n",
       "      <td id=\"T_38dca_row7_col4\" class=\"data row7 col4\" >-125.073870</td>\n",
       "      <td id=\"T_38dca_row7_col5\" class=\"data row7 col5\" >-3448.129660</td>\n",
       "      <td id=\"T_38dca_row7_col6\" class=\"data row7 col6\" >-1.127000</td>\n",
       "      <td id=\"T_38dca_row7_col7\" class=\"data row7 col7\" >0.209000</td>\n",
       "      <td id=\"T_38dca_row7_col8\" class=\"data row7 col8\" >15.720000</td>\n",
       "      <td id=\"T_38dca_row7_col9\" class=\"data row7 col9\" >97.240000</td>\n",
       "      <td id=\"T_38dca_row7_col10\" class=\"data row7 col10\" >97.240000</td>\n",
       "    </tr>\n",
       "    <tr>\n",
       "      <th id=\"T_38dca_level0_row8\" class=\"row_heading level0 row8\" >8</th>\n",
       "      <td id=\"T_38dca_row8_col0\" class=\"data row8 col0\" >1366.000000</td>\n",
       "      <td id=\"T_38dca_row8_col1\" class=\"data row8 col1\" >2.000000</td>\n",
       "      <td id=\"T_38dca_row8_col2\" class=\"data row8 col2\" >0.222220</td>\n",
       "      <td id=\"T_38dca_row8_col3\" class=\"data row8 col3\" >45.000000</td>\n",
       "      <td id=\"T_38dca_row8_col4\" class=\"data row8 col4\" >-30.344940</td>\n",
       "      <td id=\"T_38dca_row8_col5\" class=\"data row8 col5\" >-2467.676300</td>\n",
       "      <td id=\"T_38dca_row8_col6\" class=\"data row8 col6\" >-2.890000</td>\n",
       "      <td id=\"T_38dca_row8_col7\" class=\"data row8 col7\" >0.320000</td>\n",
       "      <td id=\"T_38dca_row8_col8\" class=\"data row8 col8\" >13.760000</td>\n",
       "      <td id=\"T_38dca_row8_col9\" class=\"data row8 col9\" >98.780000</td>\n",
       "      <td id=\"T_38dca_row8_col10\" class=\"data row8 col10\" >98.780000</td>\n",
       "    </tr>\n",
       "    <tr>\n",
       "      <th id=\"T_38dca_level0_row9\" class=\"row_heading level0 row9\" >9</th>\n",
       "      <td id=\"T_38dca_row9_col0\" class=\"data row9 col0\" >1367.000000</td>\n",
       "      <td id=\"T_38dca_row9_col1\" class=\"data row9 col1\" >2.000000</td>\n",
       "      <td id=\"T_38dca_row9_col2\" class=\"data row9 col2\" >0.222220</td>\n",
       "      <td id=\"T_38dca_row9_col3\" class=\"data row9 col3\" >-60.000000</td>\n",
       "      <td id=\"T_38dca_row9_col4\" class=\"data row9 col4\" >-61.233330</td>\n",
       "      <td id=\"T_38dca_row9_col5\" class=\"data row9 col5\" >-1583.977650</td>\n",
       "      <td id=\"T_38dca_row9_col6\" class=\"data row9 col6\" >1.687000</td>\n",
       "      <td id=\"T_38dca_row9_col7\" class=\"data row9 col7\" >0.320000</td>\n",
       "      <td id=\"T_38dca_row9_col8\" class=\"data row9 col8\" >13.840000</td>\n",
       "      <td id=\"T_38dca_row9_col9\" class=\"data row9 col9\" >97.810000</td>\n",
       "      <td id=\"T_38dca_row9_col10\" class=\"data row9 col10\" >97.810000</td>\n",
       "    </tr>\n",
       "    <tr>\n",
       "      <th id=\"T_38dca_level0_row10\" class=\"row_heading level0 row10\" >10</th>\n",
       "      <td id=\"T_38dca_row10_col0\" class=\"data row10 col0\" >1368.000000</td>\n",
       "      <td id=\"T_38dca_row10_col1\" class=\"data row10 col1\" >2.000000</td>\n",
       "      <td id=\"T_38dca_row10_col2\" class=\"data row10 col2\" >0.222220</td>\n",
       "      <td id=\"T_38dca_row10_col3\" class=\"data row10 col3\" >35.000000</td>\n",
       "      <td id=\"T_38dca_row10_col4\" class=\"data row10 col4\" >-29.848600</td>\n",
       "      <td id=\"T_38dca_row10_col5\" class=\"data row10 col5\" >-2900.126080</td>\n",
       "      <td id=\"T_38dca_row10_col6\" class=\"data row10 col6\" >0.420000</td>\n",
       "      <td id=\"T_38dca_row10_col7\" class=\"data row10 col7\" >0.324000</td>\n",
       "      <td id=\"T_38dca_row10_col8\" class=\"data row10 col8\" >13.360000</td>\n",
       "      <td id=\"T_38dca_row10_col9\" class=\"data row10 col9\" >97.580000</td>\n",
       "      <td id=\"T_38dca_row10_col10\" class=\"data row10 col10\" >97.580000</td>\n",
       "    </tr>\n",
       "    <tr>\n",
       "      <th id=\"T_38dca_level0_row11\" class=\"row_heading level0 row11\" >11</th>\n",
       "      <td id=\"T_38dca_row11_col0\" class=\"data row11 col0\" >1372.000000</td>\n",
       "      <td id=\"T_38dca_row11_col1\" class=\"data row11 col1\" >3.000000</td>\n",
       "      <td id=\"T_38dca_row11_col2\" class=\"data row11 col2\" >0.187500</td>\n",
       "      <td id=\"T_38dca_row11_col3\" class=\"data row11 col3\" >-35.000000</td>\n",
       "      <td id=\"T_38dca_row11_col4\" class=\"data row11 col4\" >-35.932970</td>\n",
       "      <td id=\"T_38dca_row11_col5\" class=\"data row11 col5\" >-2207.165690</td>\n",
       "      <td id=\"T_38dca_row11_col6\" class=\"data row11 col6\" >3.005000</td>\n",
       "      <td id=\"T_38dca_row11_col7\" class=\"data row11 col7\" >0.300000</td>\n",
       "      <td id=\"T_38dca_row11_col8\" class=\"data row11 col8\" >13.750000</td>\n",
       "      <td id=\"T_38dca_row11_col9\" class=\"data row11 col9\" >97.820000</td>\n",
       "      <td id=\"T_38dca_row11_col10\" class=\"data row11 col10\" >97.820000</td>\n",
       "    </tr>\n",
       "    <tr>\n",
       "      <th id=\"T_38dca_level0_row12\" class=\"row_heading level0 row12\" >12</th>\n",
       "      <td id=\"T_38dca_row12_col0\" class=\"data row12 col0\" >1373.000000</td>\n",
       "      <td id=\"T_38dca_row12_col1\" class=\"data row12 col1\" >3.000000</td>\n",
       "      <td id=\"T_38dca_row12_col2\" class=\"data row12 col2\" >0.187500</td>\n",
       "      <td id=\"T_38dca_row12_col3\" class=\"data row12 col3\" >105.000000</td>\n",
       "      <td id=\"T_38dca_row12_col4\" class=\"data row12 col4\" >-29.945780</td>\n",
       "      <td id=\"T_38dca_row12_col5\" class=\"data row12 col5\" >-2654.060050</td>\n",
       "      <td id=\"T_38dca_row12_col6\" class=\"data row12 col6\" >1.682000</td>\n",
       "      <td id=\"T_38dca_row12_col7\" class=\"data row12 col7\" >0.300000</td>\n",
       "      <td id=\"T_38dca_row12_col8\" class=\"data row12 col8\" >13.740000</td>\n",
       "      <td id=\"T_38dca_row12_col9\" class=\"data row12 col9\" >98.690000</td>\n",
       "      <td id=\"T_38dca_row12_col10\" class=\"data row12 col10\" >98.680000</td>\n",
       "    </tr>\n",
       "  </tbody>\n",
       "</table>\n"
      ],
      "text/plain": [
       "<pandas.io.formats.style.Styler at 0x7fd664e74460>"
      ]
     },
     "execution_count": 29,
     "metadata": {},
     "output_type": "execute_result"
    }
   ],
   "source": [
    "Numfit_data = np.loadtxt('/home/pratul/Downloads/Project/Analytical fits/New results/Best_dataset.txt') \n",
    "\n",
    "Hyb_ID = Numfit_data[:,1]\n",
    "q_Vec = Numfit_data[:,2]\n",
    "eta_Vec = Numfit_data[:,3]\n",
    "tshift_Vec = Numfit_data[:,4]\n",
    "tmatch_amp_Vec = Numfit_data[:,5]\n",
    "tmatch_freq_Vec = Numfit_data[:,6]\n",
    "l0_Vec = Numfit_data[:,7]\n",
    "e0_Vec = Numfit_data[:,8]\n",
    "f0_Vec = Numfit_data[:,9]\n",
    "Match_Numfit = [99.78, 97.54, 99.28, 98.98, 98.01, 97.68, 98.93, 97.24, 98.78, 97.81, 97.58, 97.82, 98.69]\n",
    "Match_Anlyfit = [99.78, 97.54, 99.28, 98.98, 98.01, 97.68, 98.93, 97.24, 98.78, 97.81, 97.58, 97.82, 98.68]\n",
    "\n",
    "df = pd.DataFrame({\n",
    "    \"Hybrid\": list((Hyb_ID)),\n",
    "    \"q\": list(q_Vec),\n",
    "    \"eta\": list(eta_Vec),\n",
    "    \"tshift\": list(tshift_Vec),\n",
    "    \"tmatch_amp\": list(tmatch_amp_Vec),\n",
    "    \"tmatch_freq\": list(tmatch_freq_Vec),\n",
    "    \"l0\": list(l0_Vec),\n",
    "    \"e0\": list(e0_Vec),\n",
    "    \"f0\": list(f0_Vec),\n",
    "    \"Match_Num\": Match_Numfit,\n",
    "    \"Match_Anly\": Match_Anlyfit\n",
    "})\n",
    "\n",
    "df.style "
   ]
  },
  {
   "cell_type": "code",
   "execution_count": 30,
   "id": "1a321707",
   "metadata": {},
   "outputs": [],
   "source": [
    "# \"Hinder+ modified all 20 simulations SEOBNRv4 model, full frequency range --Feb 16\n",
    "g=open('/home/pratul/Downloads/Project/Analytical fits/New results/New_tshift_H+modified_20hyb_Feb16.txt',\"r\") \n",
    "lines=g.readlines() \n",
    "A=[] \n",
    "for x in lines: \n",
    "    A.append(float(x.split()[1])) \n",
    "g.close()\n",
    "\n",
    "def tshift_Hinsp(q,e,l): \n",
    "    return A[0] + A[1]*q + A[2]*q**2 + A[3]*e + A[4]*e**2 + A[5]*e*q + A[6]*(e**2)*q + A[7]*(e)*math.cos(l + A[8]) + A[9]*(e**1)*(q**1)*math.cos(e*l + A[10]) + A[11]*(e**2)*math.cos(l + A[12])\n",
    "\n",
    "g=open('/home/pratul/Downloads/Project/Analytical fits/New results/New_tamp_H+modified_20hyb_Feb16.txt',\"r\") \n",
    "lines=g.readlines() \n",
    "B=[] \n",
    "for x in lines: \n",
    "    B.append(float(x.split()[1])) \n",
    "g.close()\n",
    "\n",
    "def tamp_Hinsp(eta,e,l): \n",
    "    return B[0] + B[1]*eta + B[2]*eta**2 + B[3]*e + B[4]*e**2 + B[5]*e*eta + B[6]*(e**2)*eta + B[7]*e*math.cos(l + B[8]) + B[9]*(e**1)*(eta**1)*math.cos(l + B[10]) + B[11]*(e**2)*math.cos(e*l + B[12])\n",
    "\n",
    "g=open('/home/pratul/Downloads/Project/Analytical fits/New results/New_tfreq_H+modified_20hyb_Feb16.txt',\"r\") \n",
    "lines=g.readlines() \n",
    "C=[] \n",
    "for x in lines: \n",
    "    C.append(float(x.split()[1])) \n",
    "g.close()\n",
    "\n",
    "def tfreq_Hinsp(eta,e,l): \n",
    "    return C[0] + C[1]*eta + C[2]*eta**2 + C[3]*e + C[4]*e**2 + C[5]*e*eta + C[6]*(e**2)*eta + C[7]*e*eta*math.cos(l + C[8]) + C[9]*(e)*math.cos(l + C[10]) + C[11]*(e**2)*math.cos(e*l + C[12])"
   ]
  },
  {
   "cell_type": "code",
   "execution_count": 31,
   "id": "fc16936e",
   "metadata": {},
   "outputs": [],
   "source": [
    "tshift_Anly_fit = []\n",
    "for i in range(len(q_Vec)):\n",
    "    tshift_Anly_fit.append(tshift_Hinsp(q_Vec[i],e0_Vec[i],l0_Vec[i]))"
   ]
  },
  {
   "cell_type": "code",
   "execution_count": 32,
   "id": "bad5e20a",
   "metadata": {},
   "outputs": [
    {
     "name": "stdout",
     "output_type": "stream",
     "text": [
      "[-60.00108188360612, 34.99903400969106, -49.99577252802351, -75.0001773928982, 85.00315269488647, 90.00557949274275, 0.00021758676498961904, 85.00220914546327, 45.005582939856026, -59.998447769557, 35.00173999082082, -34.9942061714101, 105.00285429029526]\n"
     ]
    }
   ],
   "source": [
    "print(tshift_Anly_fit)"
   ]
  },
  {
   "cell_type": "code",
   "execution_count": 33,
   "id": "c3c2ff8f",
   "metadata": {},
   "outputs": [],
   "source": [
    "tamp_Anly_fit = []\n",
    "for i in range(len(q_Vec)):\n",
    "    tamp_Anly_fit.append(tamp_Hinsp(eta_Vec[i],e0_Vec[i],l0_Vec[i]))"
   ]
  },
  {
   "cell_type": "code",
   "execution_count": 34,
   "id": "9b1ff18b",
   "metadata": {},
   "outputs": [
    {
     "name": "stdout",
     "output_type": "stream",
     "text": [
      "[-61.0459114655917, -30.18008077450793, -50.66312408547492, -75.79796982597173, -49.9393754282014, -54.7963703773579, -30.020673759440655, -124.92424098278573, -30.152779070447423, -61.13023733594673, -29.692416018740232, -35.8277938168697, -29.8650874097616]\n"
     ]
    }
   ],
   "source": [
    "print(tamp_Anly_fit)"
   ]
  },
  {
   "cell_type": "code",
   "execution_count": 35,
   "id": "6a15856d",
   "metadata": {},
   "outputs": [],
   "source": [
    "tfreq_Anly_fit = []\n",
    "for i in range(len(q_Vec)):\n",
    "    tfreq_Anly_fit.append(tfreq_Hinsp(eta_Vec[i],e0_Vec[i],l0_Vec[i]))"
   ]
  },
  {
   "cell_type": "code",
   "execution_count": 36,
   "id": "74b9ea5e",
   "metadata": {},
   "outputs": [
    {
     "name": "stdout",
     "output_type": "stream",
     "text": [
      "[-1277.0690864991775, -3385.6067094227474, -480.6332594732521, -973.4891363804054, -2181.2088705922943, -1983.3270538262732, -4379.736948531237, -3440.063911756304, -2401.0573675893975, -1625.8474149561953, -2929.9878743763256, -2241.8018090854603, -2686.5073953964456]\n"
     ]
    }
   ],
   "source": [
    "print(tfreq_Anly_fit)"
   ]
  },
  {
   "cell_type": "code",
   "execution_count": 37,
   "id": "93b175bc",
   "metadata": {},
   "outputs": [
    {
     "name": "stdout",
     "output_type": "stream",
     "text": [
      "[ 1  2  3  4  5  6  7  8  9 10 11 12 13]\n"
     ]
    },
    {
     "data": {
      "image/png": "[encoded data removed]",
      "text/plain": [
       "<Figure size 600x450 with 1 Axes>"
      ]
     },
     "metadata": {},
     "output_type": "display_data"
    }
   ],
   "source": [
    "ID = np.arange(1,14,1)\n",
    "print(ID)\n",
    "plt.figure(figsize=(6,4.5))\n",
    "plt.rc('xtick', labelsize=14) \n",
    "plt.rc('ytick', labelsize=14) \n",
    "mpl.rcParams['xtick.major.size'] = 12\n",
    "mpl.rcParams['xtick.major.width'] = 1\n",
    "mpl.rcParams['xtick.minor.size'] = 8\n",
    "mpl.rcParams['xtick.minor.width'] = 1\n",
    "mpl.rcParams['ytick.major.size'] = 12\n",
    "mpl.rcParams['ytick.major.width'] = 1\n",
    "mpl.rcParams['ytick.minor.size'] = 8\n",
    "mpl.rcParams['ytick.minor.width'] = 1\n",
    "plt.locator_params(axis='y',nbins=6)\n",
    "plt.tick_params(axis='y',direction='in')\n",
    "plt.tick_params(axis='x',direction='in')\n",
    "plt.minorticks_on()\n",
    "plt.tick_params(axis='y',which='minor',direction='in',right=True)\n",
    "plt.tick_params(axis='x',which='minor',bottom=False)         \n",
    "plt.scatter(ID, tshift_Anly_fit, marker=\"x\", color = 'black',s=70, label='Analytical')\n",
    "plt.scatter(ID, tshift_Vec, marker = 'o', facecolor ='none',edgecolor='orange',s=80, label='Numerical' )\n",
    "plt.xticks(ID)\n",
    "plt.xlabel('Hybrid',fontsize=15)\n",
    "plt.ylabel(r't$_{\\rm shift}$',fontsize=15)\n",
    "plt.title('Time Shift',fontsize=15)\n",
    "#plt.legend()\n",
    "plt.tight_layout()\n",
    "plt.savefig('/home/pratul/Downloads/Project/Plots_draft/Anly_fit_tshift.pdf',dpi=300)"
   ]
  },
  {
   "cell_type": "code",
   "execution_count": 44,
   "id": "aa8d3795",
   "metadata": {},
   "outputs": [
    {
     "name": "stdout",
     "output_type": "stream",
     "text": [
      "[ 1  2  3  4  5  6  7  8  9 10 11 12 13]\n"
     ]
    },
    {
     "data": {
      "image/png": "[encoded data removed]",
      "text/plain": [
       "<Figure size 600x450 with 1 Axes>"
      ]
     },
     "metadata": {},
     "output_type": "display_data"
    }
   ],
   "source": [
    "ID = np.arange(1,14,1)\n",
    "print(ID)\n",
    "plt.figure(figsize=(6,4.5))\n",
    "\n",
    "plt.rc('xtick', labelsize=14) \n",
    "plt.rc('ytick', labelsize=14) \n",
    "mpl.rcParams['xtick.major.size'] = 12\n",
    "mpl.rcParams['xtick.major.width'] = 1\n",
    "mpl.rcParams['xtick.minor.size'] = 8\n",
    "mpl.rcParams['xtick.minor.width'] = 1\n",
    "mpl.rcParams['ytick.major.size'] = 12\n",
    "mpl.rcParams['ytick.major.width'] = 1\n",
    "mpl.rcParams['ytick.minor.size'] = 8\n",
    "mpl.rcParams['ytick.minor.width'] = 1\n",
    "plt.locator_params(axis='y',nbins=6)\n",
    "plt.tick_params(axis='y',direction='in')\n",
    "plt.tick_params(axis='x',direction='in')\n",
    "plt.minorticks_on()\n",
    "plt.tick_params(axis='y',which='minor',direction='in',right=True)\n",
    "plt.tick_params(axis='x',which='minor',bottom=False)         \n",
    "plt.scatter(ID, tamp_Anly_fit, marker=\"x\", color = 'black',s=70, label='Analytical')\n",
    "plt.scatter(ID, tmatch_amp_Vec, marker = 'o', facecolor ='none',edgecolor='orange',s=80, label='Numerical' )\n",
    "plt.xticks(ID)\n",
    "plt.xlabel('Hybrid',fontsize=15)\n",
    "plt.ylabel(r't$_{\\rm match}$',fontsize=15)\n",
    "plt.title('Amplitude',fontsize=15)\n",
    "plt.legend(loc='lower right',fontsize=15,frameon=False)\n",
    "plt.tight_layout()\n",
    "plt.savefig('/home/pratul/Downloads/Project/Plots_draft/Anly_fit_amp.pdf',dpi=300)"
   ]
  },
  {
   "cell_type": "code",
   "execution_count": 39,
   "id": "cc3a39d1",
   "metadata": {},
   "outputs": [
    {
     "name": "stdout",
     "output_type": "stream",
     "text": [
      "[ 1  2  3  4  5  6  7  8  9 10 11 12 13]\n"
     ]
    },
    {
     "data": {
      "image/png": "[encoded data removed]",
      "text/plain": [
       "<Figure size 600x450 with 1 Axes>"
      ]
     },
     "metadata": {},
     "output_type": "display_data"
    }
   ],
   "source": [
    "ID = np.arange(1,14,1)\n",
    "print(ID)\n",
    "plt.figure(figsize=(6,4.5))\n",
    "\n",
    "plt.rc('xtick', labelsize=14) \n",
    "plt.rc('ytick', labelsize=14) \n",
    "mpl.rcParams['xtick.major.size'] = 12\n",
    "mpl.rcParams['xtick.major.width'] = 1\n",
    "mpl.rcParams['xtick.minor.size'] = 8\n",
    "mpl.rcParams['xtick.minor.width'] = 1\n",
    "mpl.rcParams['ytick.major.size'] = 12\n",
    "mpl.rcParams['ytick.major.width'] = 1\n",
    "mpl.rcParams['ytick.minor.size'] = 8\n",
    "mpl.rcParams['ytick.minor.width'] = 1\n",
    "plt.locator_params(axis='y',nbins=6)\n",
    "plt.tick_params(axis='y',direction='in')\n",
    "plt.tick_params(axis='x',direction='in')\n",
    "plt.minorticks_on()\n",
    "plt.tick_params(axis='y',which='minor',direction='in',right=True)\n",
    "plt.tick_params(axis='x',which='minor',bottom=False)        \n",
    "plt.scatter(ID, tfreq_Anly_fit, marker=\"x\", color = 'black',s=70,label='Analytical')\n",
    "plt.scatter(ID, tmatch_freq_Vec, marker = 'o', facecolor ='none',edgecolor='orange',s=80,label='Numerical' )\n",
    "plt.xticks(ID)\n",
    "plt.xlabel('Hybrid',fontsize=15)\n",
    "plt.ylabel(r't$_{\\rm match}$',fontsize=15)\n",
    "plt.title('Frequency',fontsize=15)\n",
    "plt.tight_layout()\n",
    "#plt.legend()\n",
    "plt.savefig('/home/pratul/Downloads/Project/Plots_draft/Anly_fit_freq.pdf',dpi=300)"
   ]
  },
  {
   "cell_type": "code",
   "execution_count": 40,
   "id": "61f03a26",
   "metadata": {},
   "outputs": [],
   "source": [
    "def xconv(f,M):\n",
    "    return (PI*M*MTSUN_SI*f)**(2/3)  #22 mode conversion"
   ]
  },
  {
   "cell_type": "code",
   "execution_count": 41,
   "id": "50e91888-43c1-40b1-be1c-bd8beb21ec0a",
   "metadata": {},
   "outputs": [
    {
     "name": "stdout",
     "output_type": "stream",
     "text": [
      "1355.0 0.0389\n",
      "1356.0 0.0375\n",
      "1358.0 0.034\n",
      "1359.0 0.0347\n",
      "1360.0 0.0317\n",
      "1361.0 0.0313\n",
      "1364.0 0.0391\n",
      "1365.0 0.0376\n",
      "1366.0 0.0344\n",
      "1367.0 0.0346\n",
      "1368.0 0.0338\n",
      "1372.0 0.0344\n",
      "1373.0 0.0344\n"
     ]
    }
   ],
   "source": [
    "for i in range(len(f0_Vec)):\n",
    "    print(Hyb_ID[i],round(xconv(f0_Vec[i],30),4))"
   ]
  },
  {
   "cell_type": "code",
   "execution_count": 42,
   "id": "9ddd9037-4cde-4c84-b155-c9398445dd9f",
   "metadata": {},
   "outputs": [
    {
     "data": {
      "text/plain": [
       "0.029"
      ]
     },
     "execution_count": 42,
     "metadata": {},
     "output_type": "execute_result"
    }
   ],
   "source": [
    "round(xconv(10.62,30),4)"
   ]
  },
  {
   "cell_type": "code",
   "execution_count": 43,
   "id": "f0e4d0a6-6366-443e-a095-d60833f7c934",
   "metadata": {},
   "outputs": [
    {
     "name": "stdout",
     "output_type": "stream",
     "text": [
      "Object `plt.minorticks_on()` not found.\n"
     ]
    }
   ],
   "source": [
    "?plt.minorticks_on()"
   ]
  },
  {
   "cell_type": "code",
   "execution_count": null,
   "id": "9a626ec9-54c1-4fa8-8d48-661b2bb8006f",
   "metadata": {},
   "outputs": [],
   "source": []
  }
 ],
 "metadata": {
  "kernelspec": {
   "display_name": "pycbc",
   "language": "python",
   "name": "pycbc"
  },
  "language_info": {
   "codemirror_mode": {
    "name": "ipython",
    "version": 3
   },
   "file_extension": ".py",
   "mimetype": "text/x-python",
   "name": "python",
   "nbconvert_exporter": "python",
   "pygments_lexer": "ipython3",
   "version": "3.9.18"
  }
 },
 "nbformat": 4,
 "nbformat_minor": 5
}

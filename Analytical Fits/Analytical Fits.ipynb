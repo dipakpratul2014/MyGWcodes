{
 "cells": [
  {
   "cell_type": "code",
   "execution_count": 31,
   "id": "142e0a72",
   "metadata": {},
   "outputs": [],
   "source": [
    "import pylab\n",
    "import h5py\n",
    "import math\n",
    "import array\n",
    "from numpy import *\n",
    "import numpy as np\n",
    "from pycbc.types import TimeSeries, FrequencySeries\n",
    "from pycbc.waveform import get_td_waveform, get_fd_waveform\n",
    "from pycbc.waveform.waveform_modes import get_td_waveform_modes\n",
    "from pycbc import types, fft, waveform\n",
    "import lal\n",
    "from scipy import interpolate\n",
    "from scipy.interpolate import interp1d\n",
    "from lal import MSUN_SI, MTSUN_SI, G_SI, PC_SI, C_SI, PI\n",
    "from pycbc.filter import match\n",
    "from pycbc.psd import aLIGOZeroDetHighPower\n",
    "from tqdm import tqdm#\n",
    "\n",
    "\n",
    "import matplotlib as mpl\n",
    "\n",
    " \n",
    "from matplotlib import gridspec\n",
    "from matplotlib import ticker\n",
    "\n",
    "import matplotlib.pyplot as plt\n"
   ]
  },
  {
   "cell_type": "code",
   "execution_count": 32,
   "id": "955f9a28",
   "metadata": {},
   "outputs": [
    {
     "data": {
      "text/html": [
       "<style type=\"text/css\">\n",
       "</style>\n",
       "<table id=\"T_3b732_\">\n",
       "  <thead>\n",
       "    <tr>\n",
       "      <th class=\"blank level0\" >&nbsp;</th>\n",
       "      <th class=\"col_heading level0 col0\" >Hybrid</th>\n",
       "      <th class=\"col_heading level0 col1\" >q</th>\n",
       "      <th class=\"col_heading level0 col2\" >eta</th>\n",
       "      <th class=\"col_heading level0 col3\" >tshift</th>\n",
       "      <th class=\"col_heading level0 col4\" >tmatch_amp</th>\n",
       "      <th class=\"col_heading level0 col5\" >tmatch_freq</th>\n",
       "      <th class=\"col_heading level0 col6\" >l0</th>\n",
       "      <th class=\"col_heading level0 col7\" >e0</th>\n",
       "    </tr>\n",
       "  </thead>\n",
       "  <tbody>\n",
       "    <tr>\n",
       "      <th id=\"T_3b732_level0_row0\" class=\"row_heading level0 row0\" >0</th>\n",
       "      <td id=\"T_3b732_row0_col0\" class=\"data row0 col0\" >1355.000000</td>\n",
       "      <td id=\"T_3b732_row0_col1\" class=\"data row0 col1\" >1.000000</td>\n",
       "      <td id=\"T_3b732_row0_col2\" class=\"data row0 col2\" >0.250000</td>\n",
       "      <td id=\"T_3b732_row0_col3\" class=\"data row0 col3\" >-60.000000</td>\n",
       "      <td id=\"T_3b732_row0_col4\" class=\"data row0 col4\" >-61.131040</td>\n",
       "      <td id=\"T_3b732_row0_col5\" class=\"data row0 col5\" >-1270.259460</td>\n",
       "      <td id=\"T_3b732_row0_col6\" class=\"data row0 col6\" >1.423000</td>\n",
       "      <td id=\"T_3b732_row0_col7\" class=\"data row0 col7\" >0.173000</td>\n",
       "    </tr>\n",
       "    <tr>\n",
       "      <th id=\"T_3b732_level0_row1\" class=\"row_heading level0 row1\" >1</th>\n",
       "      <td id=\"T_3b732_row1_col0\" class=\"data row1 col0\" >1356.000000</td>\n",
       "      <td id=\"T_3b732_row1_col1\" class=\"data row1 col1\" >1.000000</td>\n",
       "      <td id=\"T_3b732_row1_col2\" class=\"data row1 col2\" >0.250000</td>\n",
       "      <td id=\"T_3b732_row1_col3\" class=\"data row1 col3\" >35.000000</td>\n",
       "      <td id=\"T_3b732_row1_col4\" class=\"data row1 col4\" >-30.279200</td>\n",
       "      <td id=\"T_3b732_row1_col5\" class=\"data row1 col5\" >-3369.344140</td>\n",
       "      <td id=\"T_3b732_row1_col6\" class=\"data row1 col6\" >1.574000</td>\n",
       "      <td id=\"T_3b732_row1_col7\" class=\"data row1 col7\" >0.230000</td>\n",
       "    </tr>\n",
       "    <tr>\n",
       "      <th id=\"T_3b732_level0_row2\" class=\"row_heading level0 row2\" >2</th>\n",
       "      <td id=\"T_3b732_row2_col0\" class=\"data row2 col0\" >1358.000000</td>\n",
       "      <td id=\"T_3b732_row2_col1\" class=\"data row2 col1\" >1.000000</td>\n",
       "      <td id=\"T_3b732_row2_col2\" class=\"data row2 col2\" >0.250000</td>\n",
       "      <td id=\"T_3b732_row2_col3\" class=\"data row2 col3\" >-50.000000</td>\n",
       "      <td id=\"T_3b732_row2_col4\" class=\"data row2 col4\" >-50.872680</td>\n",
       "      <td id=\"T_3b732_row2_col5\" class=\"data row2 col5\" >-545.853330</td>\n",
       "      <td id=\"T_3b732_row2_col6\" class=\"data row2 col6\" >-2.682000</td>\n",
       "      <td id=\"T_3b732_row2_col7\" class=\"data row2 col7\" >0.322000</td>\n",
       "    </tr>\n",
       "    <tr>\n",
       "      <th id=\"T_3b732_level0_row3\" class=\"row_heading level0 row3\" >3</th>\n",
       "      <td id=\"T_3b732_row3_col0\" class=\"data row3 col0\" >1359.000000</td>\n",
       "      <td id=\"T_3b732_row3_col1\" class=\"data row3 col1\" >1.000000</td>\n",
       "      <td id=\"T_3b732_row3_col2\" class=\"data row3 col2\" >0.250000</td>\n",
       "      <td id=\"T_3b732_row3_col3\" class=\"data row3 col3\" >-75.000000</td>\n",
       "      <td id=\"T_3b732_row3_col4\" class=\"data row3 col4\" >-75.914410</td>\n",
       "      <td id=\"T_3b732_row3_col5\" class=\"data row3 col5\" >-931.065740</td>\n",
       "      <td id=\"T_3b732_row3_col6\" class=\"data row3 col6\" >1.834000</td>\n",
       "      <td id=\"T_3b732_row3_col7\" class=\"data row3 col7\" >0.317000</td>\n",
       "    </tr>\n",
       "    <tr>\n",
       "      <th id=\"T_3b732_level0_row4\" class=\"row_heading level0 row4\" >4</th>\n",
       "      <td id=\"T_3b732_row4_col0\" class=\"data row4 col0\" >1360.000000</td>\n",
       "      <td id=\"T_3b732_row4_col1\" class=\"data row4 col1\" >1.000000</td>\n",
       "      <td id=\"T_3b732_row4_col2\" class=\"data row4 col2\" >0.250000</td>\n",
       "      <td id=\"T_3b732_row4_col3\" class=\"data row4 col3\" >85.000000</td>\n",
       "      <td id=\"T_3b732_row4_col4\" class=\"data row4 col4\" >-50.203760</td>\n",
       "      <td id=\"T_3b732_row4_col5\" class=\"data row4 col5\" >-2168.937350</td>\n",
       "      <td id=\"T_3b732_row4_col6\" class=\"data row4 col6\" >-0.395000</td>\n",
       "      <td id=\"T_3b732_row4_col7\" class=\"data row4 col7\" >0.416000</td>\n",
       "    </tr>\n",
       "    <tr>\n",
       "      <th id=\"T_3b732_level0_row5\" class=\"row_heading level0 row5\" >5</th>\n",
       "      <td id=\"T_3b732_row5_col0\" class=\"data row5 col0\" >1361.000000</td>\n",
       "      <td id=\"T_3b732_row5_col1\" class=\"data row5 col1\" >1.000000</td>\n",
       "      <td id=\"T_3b732_row5_col2\" class=\"data row5 col2\" >0.250000</td>\n",
       "      <td id=\"T_3b732_row5_col3\" class=\"data row5 col3\" >90.000000</td>\n",
       "      <td id=\"T_3b732_row5_col4\" class=\"data row5 col4\" >-55.092810</td>\n",
       "      <td id=\"T_3b732_row5_col5\" class=\"data row5 col5\" >-2012.105460</td>\n",
       "      <td id=\"T_3b732_row5_col6\" class=\"data row5 col6\" >-1.019000</td>\n",
       "      <td id=\"T_3b732_row5_col7\" class=\"data row5 col7\" >0.416000</td>\n",
       "    </tr>\n",
       "    <tr>\n",
       "      <th id=\"T_3b732_level0_row6\" class=\"row_heading level0 row6\" >6</th>\n",
       "      <td id=\"T_3b732_row6_col0\" class=\"data row6 col0\" >1364.000000</td>\n",
       "      <td id=\"T_3b732_row6_col1\" class=\"data row6 col1\" >2.000000</td>\n",
       "      <td id=\"T_3b732_row6_col2\" class=\"data row6 col2\" >0.222220</td>\n",
       "      <td id=\"T_3b732_row6_col3\" class=\"data row6 col3\" >0.000000</td>\n",
       "      <td id=\"T_3b732_row6_col4\" class=\"data row6 col4\" >-30.131180</td>\n",
       "      <td id=\"T_3b732_row6_col5\" class=\"data row6 col5\" >-4376.080050</td>\n",
       "      <td id=\"T_3b732_row6_col6\" class=\"data row6 col6\" >-0.181000</td>\n",
       "      <td id=\"T_3b732_row6_col7\" class=\"data row6 col7\" >0.172000</td>\n",
       "    </tr>\n",
       "    <tr>\n",
       "      <th id=\"T_3b732_level0_row7\" class=\"row_heading level0 row7\" >7</th>\n",
       "      <td id=\"T_3b732_row7_col0\" class=\"data row7 col0\" >1365.000000</td>\n",
       "      <td id=\"T_3b732_row7_col1\" class=\"data row7 col1\" >2.000000</td>\n",
       "      <td id=\"T_3b732_row7_col2\" class=\"data row7 col2\" >0.222220</td>\n",
       "      <td id=\"T_3b732_row7_col3\" class=\"data row7 col3\" >85.000000</td>\n",
       "      <td id=\"T_3b732_row7_col4\" class=\"data row7 col4\" >-125.073870</td>\n",
       "      <td id=\"T_3b732_row7_col5\" class=\"data row7 col5\" >-3448.129660</td>\n",
       "      <td id=\"T_3b732_row7_col6\" class=\"data row7 col6\" >-1.127000</td>\n",
       "      <td id=\"T_3b732_row7_col7\" class=\"data row7 col7\" >0.209000</td>\n",
       "    </tr>\n",
       "    <tr>\n",
       "      <th id=\"T_3b732_level0_row8\" class=\"row_heading level0 row8\" >8</th>\n",
       "      <td id=\"T_3b732_row8_col0\" class=\"data row8 col0\" >1366.000000</td>\n",
       "      <td id=\"T_3b732_row8_col1\" class=\"data row8 col1\" >2.000000</td>\n",
       "      <td id=\"T_3b732_row8_col2\" class=\"data row8 col2\" >0.222220</td>\n",
       "      <td id=\"T_3b732_row8_col3\" class=\"data row8 col3\" >45.000000</td>\n",
       "      <td id=\"T_3b732_row8_col4\" class=\"data row8 col4\" >-30.344940</td>\n",
       "      <td id=\"T_3b732_row8_col5\" class=\"data row8 col5\" >-2467.676300</td>\n",
       "      <td id=\"T_3b732_row8_col6\" class=\"data row8 col6\" >-2.890000</td>\n",
       "      <td id=\"T_3b732_row8_col7\" class=\"data row8 col7\" >0.320000</td>\n",
       "    </tr>\n",
       "    <tr>\n",
       "      <th id=\"T_3b732_level0_row9\" class=\"row_heading level0 row9\" >9</th>\n",
       "      <td id=\"T_3b732_row9_col0\" class=\"data row9 col0\" >1367.000000</td>\n",
       "      <td id=\"T_3b732_row9_col1\" class=\"data row9 col1\" >2.000000</td>\n",
       "      <td id=\"T_3b732_row9_col2\" class=\"data row9 col2\" >0.222220</td>\n",
       "      <td id=\"T_3b732_row9_col3\" class=\"data row9 col3\" >-60.000000</td>\n",
       "      <td id=\"T_3b732_row9_col4\" class=\"data row9 col4\" >-61.233330</td>\n",
       "      <td id=\"T_3b732_row9_col5\" class=\"data row9 col5\" >-1583.977650</td>\n",
       "      <td id=\"T_3b732_row9_col6\" class=\"data row9 col6\" >1.687000</td>\n",
       "      <td id=\"T_3b732_row9_col7\" class=\"data row9 col7\" >0.320000</td>\n",
       "    </tr>\n",
       "    <tr>\n",
       "      <th id=\"T_3b732_level0_row10\" class=\"row_heading level0 row10\" >10</th>\n",
       "      <td id=\"T_3b732_row10_col0\" class=\"data row10 col0\" >1368.000000</td>\n",
       "      <td id=\"T_3b732_row10_col1\" class=\"data row10 col1\" >2.000000</td>\n",
       "      <td id=\"T_3b732_row10_col2\" class=\"data row10 col2\" >0.222220</td>\n",
       "      <td id=\"T_3b732_row10_col3\" class=\"data row10 col3\" >35.000000</td>\n",
       "      <td id=\"T_3b732_row10_col4\" class=\"data row10 col4\" >-29.848600</td>\n",
       "      <td id=\"T_3b732_row10_col5\" class=\"data row10 col5\" >-2900.126080</td>\n",
       "      <td id=\"T_3b732_row10_col6\" class=\"data row10 col6\" >0.420000</td>\n",
       "      <td id=\"T_3b732_row10_col7\" class=\"data row10 col7\" >0.324000</td>\n",
       "    </tr>\n",
       "    <tr>\n",
       "      <th id=\"T_3b732_level0_row11\" class=\"row_heading level0 row11\" >11</th>\n",
       "      <td id=\"T_3b732_row11_col0\" class=\"data row11 col0\" >1372.000000</td>\n",
       "      <td id=\"T_3b732_row11_col1\" class=\"data row11 col1\" >3.000000</td>\n",
       "      <td id=\"T_3b732_row11_col2\" class=\"data row11 col2\" >0.187500</td>\n",
       "      <td id=\"T_3b732_row11_col3\" class=\"data row11 col3\" >-35.000000</td>\n",
       "      <td id=\"T_3b732_row11_col4\" class=\"data row11 col4\" >-35.932970</td>\n",
       "      <td id=\"T_3b732_row11_col5\" class=\"data row11 col5\" >-2207.165690</td>\n",
       "      <td id=\"T_3b732_row11_col6\" class=\"data row11 col6\" >3.005000</td>\n",
       "      <td id=\"T_3b732_row11_col7\" class=\"data row11 col7\" >0.300000</td>\n",
       "    </tr>\n",
       "    <tr>\n",
       "      <th id=\"T_3b732_level0_row12\" class=\"row_heading level0 row12\" >12</th>\n",
       "      <td id=\"T_3b732_row12_col0\" class=\"data row12 col0\" >1373.000000</td>\n",
       "      <td id=\"T_3b732_row12_col1\" class=\"data row12 col1\" >3.000000</td>\n",
       "      <td id=\"T_3b732_row12_col2\" class=\"data row12 col2\" >0.187500</td>\n",
       "      <td id=\"T_3b732_row12_col3\" class=\"data row12 col3\" >105.000000</td>\n",
       "      <td id=\"T_3b732_row12_col4\" class=\"data row12 col4\" >-29.945780</td>\n",
       "      <td id=\"T_3b732_row12_col5\" class=\"data row12 col5\" >-1388.885340</td>\n",
       "      <td id=\"T_3b732_row12_col6\" class=\"data row12 col6\" >1.682000</td>\n",
       "      <td id=\"T_3b732_row12_col7\" class=\"data row12 col7\" >0.300000</td>\n",
       "    </tr>\n",
       "  </tbody>\n",
       "</table>\n"
      ],
      "text/plain": [
       "<pandas.io.formats.style.Styler at 0x7fd6a6cc4990>"
      ]
     },
     "execution_count": 32,
     "metadata": {},
     "output_type": "execute_result"
    }
   ],
   "source": [
    "Numfit_data = np.loadtxt('/home/pratul/Downloads/Project/Analytical fits/New results/Best_dataset.txt') \n",
    "\n",
    "Hyb_ID = Numfit_data[:,1]\n",
    "q_Vec = Numfit_data[:,2]\n",
    "eta_Vec = Numfit_data[:,3]\n",
    "tshift_Vec = Numfit_data[:,4]\n",
    "tmatch_amp_Vec = Numfit_data[:,5]\n",
    "tmatch_freq_Vec = Numfit_data[:,6]\n",
    "l0_Vec = Numfit_data[:,7]\n",
    "e0_Vec = Numfit_data[:,8]\n",
    "\n",
    "df = pd.DataFrame({\n",
    "    \"Hybrid\": list((Hyb_ID)),\n",
    "    \"q\": list(q_Vec),\n",
    "    \"eta\": list(eta_Vec),\n",
    "    \"tshift\": list(tshift_Vec),\n",
    "    \"tmatch_amp\": list(tmatch_amp_Vec),\n",
    "    \"tmatch_freq\": list(tmatch_freq_Vec),\n",
    "    \"l0\": list(l0_Vec),\n",
    "    \"e0\": list(e0_Vec)\n",
    "})\n",
    "\n",
    "df.style "
   ]
  },
  {
   "cell_type": "code",
   "execution_count": 33,
   "id": "1a321707",
   "metadata": {},
   "outputs": [],
   "source": [
    "# \"Hinder+ modified all 20 simulations SEOBNRv4 model, full frequency range --Feb 16\n",
    "g=open('/home/pratul/Downloads/Project/Analytical fits/New results/New_tshift_H+modified_20hyb_Feb16.txt',\"r\") \n",
    "lines=g.readlines() \n",
    "A=[] \n",
    "for x in lines: \n",
    "    A.append(float(x.split()[1])) \n",
    "g.close()\n",
    "\n",
    "def tshift_Hinsp(q,e,l): \n",
    "    return A[0] + A[1]*q + A[2]*q**2 + A[3]*e + A[4]*e**2 + A[5]*e**3 + A[6]*e*q + A[7]*(e**2)*q + A[8]*e*(q**2) + A[9]*(e**2)*(q**2) + A[10]*(e**3)*q + A[11]*e*q*math.cos(l + A[12]) + A[13]*(e**2)*(q**2)*math.cos(e*l + A[14]) + A[15]*(e**3)*q*math.cos(l + A[16]) + A[17]*e*(q**2)*math.cos(l + A[18])\n",
    "\n",
    "g=open('/home/pratul/Downloads/Project/Analytical fits/New results/New_tamp_H+modified_20hyb_Feb16.txt',\"r\") \n",
    "lines=g.readlines() \n",
    "B=[] \n",
    "for x in lines: \n",
    "    B.append(float(x.split()[1])) \n",
    "g.close()\n",
    "\n",
    "def tamp_Hinsp(eta,e,l): \n",
    "    return B[0] + B[1]*eta + B[2]*eta**2 + B[3]*e + B[4]*e**2 + B[5]*e**3 + B[6]*e*eta + B[7]*(e**2)*eta + B[8]*e*(eta**2) + B[9]*(e**2)*(eta**2) + B[10]*(e**3)*eta + B[11]*e*eta*math.cos(l + B[12]) + B[13]*(e**2)*(eta**2)*math.cos(l + B[14]) + B[15]*(e**3)*eta*math.cos(e*l + B[16])\n",
    "\n",
    "g=open('/home/pratul/Downloads/Project/Analytical fits/New results/New_tfreq_H+modified_20hyb_Feb16.txt',\"r\") \n",
    "lines=g.readlines() \n",
    "C=[] \n",
    "for x in lines: \n",
    "    C.append(float(x.split()[1])) \n",
    "g.close()\n",
    "\n",
    "def tfreq_Hinsp(eta,e,l): \n",
    "    return C[0] + C[1]*eta + C[2]*eta**2 + C[3]*e + C[4]*e**2 + C[5]*e**3 + C[6]*e*eta + C[7]*(e**2)*eta + C[8]*e*(eta**2) + C[9]*(e**2)*(eta**2) + C[10]*(e**3)*eta + C[11]*e*eta*math.cos(l + C[12]) + C[13]*(e**2)*(eta**2)*math.cos(l + C[14]) + C[15]*(e**3)*eta*math.cos(e*l + C[16])+ C[17]*(e**3)*(eta**2)*math.cos(e*l + C[18])"
   ]
  },
  {
   "cell_type": "code",
   "execution_count": 34,
   "id": "8f2fd03a",
   "metadata": {},
   "outputs": [],
   "source": [
    "tshift_Anly_fit = []\n",
    "for i in range(len(q_Vec)):\n",
    "    tshift_Anly_fit.append(tshift_Hinsp(q_Vec[i],e0_Vec[i],l0_Vec[i]))"
   ]
  },
  {
   "cell_type": "code",
   "execution_count": 35,
   "id": "1b04671d",
   "metadata": {},
   "outputs": [
    {
     "name": "stdout",
     "output_type": "stream",
     "text": [
      "[-60.000678936652434, 34.998536526825724, -49.990759159702534, -75.00220825363367, 84.9903176807718, 90.0012694313358, -0.0035721103577088797, 84.99965848197962, 45.013911691810506, -60.01167428352727, 34.97914191123397, -34.99216987529212, 104.97901021633157]\n"
     ]
    }
   ],
   "source": [
    "print(tshift_Anly_fit)"
   ]
  },
  {
   "cell_type": "code",
   "execution_count": 36,
   "id": "73e62d53",
   "metadata": {},
   "outputs": [],
   "source": [
    "tamp_Anly_fit = []\n",
    "for i in range(len(q_Vec)):\n",
    "    tamp_Anly_fit.append(tamp_Hinsp(eta_Vec[i],e0_Vec[i],l0_Vec[i]))"
   ]
  },
  {
   "cell_type": "code",
   "execution_count": 37,
   "id": "e0fc2eae",
   "metadata": {},
   "outputs": [
    {
     "name": "stdout",
     "output_type": "stream",
     "text": [
      "[-61.12348859388305, -30.26519016218566, -50.90649053655545, -75.89283198969451, -50.184266291564654, -55.11295838599631, -30.128703609599157, -125.07994921576147, -30.36751124277413, -61.212667317390355, -29.821413276894646, -35.942761614054405, -29.93310256819086]\n"
     ]
    }
   ],
   "source": [
    "print(tamp_Anly_fit)"
   ]
  },
  {
   "cell_type": "code",
   "execution_count": 38,
   "id": "1b936150",
   "metadata": {},
   "outputs": [],
   "source": [
    "tfreq_Anly_fit = []\n",
    "for i in range(len(q_Vec)):\n",
    "    tfreq_Anly_fit.append(tfreq_Hinsp(eta_Vec[i],e0_Vec[i],l0_Vec[i]))"
   ]
  },
  {
   "cell_type": "code",
   "execution_count": 39,
   "id": "a6470367",
   "metadata": {},
   "outputs": [
    {
     "name": "stdout",
     "output_type": "stream",
     "text": [
      "[-1269.9911544531626, -3366.604620294449, -619.9974332436364, -908.1579769841283, -2240.0302821260657, -2120.316106716813, -4377.966283494587, -3456.7835358917514, -2534.2869162213433, -1564.3981677985246, -2907.6120458490323, -2177.3493734073422, -1375.645603039567]\n"
     ]
    }
   ],
   "source": [
    "print(tfreq_Anly_fit)"
   ]
  },
  {
   "cell_type": "code",
   "execution_count": 71,
   "id": "38225912",
   "metadata": {},
   "outputs": [
    {
     "name": "stdout",
     "output_type": "stream",
     "text": [
      "[ 1  2  3  4  5  6  7  8  9 10 11 12 13]\n"
     ]
    },
    {
     "data": {
      "image/png": "[encoded data removed]",
      "text/plain": [
       "<Figure size 600x400 with 1 Axes>"
      ]
     },
     "metadata": {},
     "output_type": "display_data"
    }
   ],
   "source": [
    "ID = np.arange(1,14,1)\n",
    "print(ID)\n",
    "plt.figure(figsize=(6,4))\n",
    "plt.scatter(ID, tshift_Anly_fit, marker=\"x\", color = 'black',s=40)\n",
    "plt.scatter(ID, tshift_Vec, marker = 'o', facecolor ='none',edgecolor='red',s=40 )\n",
    "plt.xticks(ID)\n",
    "plt.xlabel('Hybrid',fontsize=15)\n",
    "plt.ylabel(r't$_{\\rm shift}$',fontsize=15)\n",
    "plt.title('Time Shift',fontsize=15)\n",
    "plt.tight_layout()\n",
    "plt.savefig('Anly_fit_tshift.pdf',dpi=300)"
   ]
  },
  {
   "cell_type": "code",
   "execution_count": 70,
   "id": "2931b634",
   "metadata": {},
   "outputs": [
    {
     "name": "stdout",
     "output_type": "stream",
     "text": [
      "[ 1  2  3  4  5  6  7  8  9 10 11 12 13]\n"
     ]
    },
    {
     "data": {
      "image/png": "[encoded data removed]",
      "text/plain": [
       "<Figure size 600x400 with 1 Axes>"
      ]
     },
     "metadata": {},
     "output_type": "display_data"
    }
   ],
   "source": [
    "ID = np.arange(1,14,1)\n",
    "print(ID)\n",
    "plt.figure(figsize=(6,4))\n",
    "plt.scatter(ID, tamp_Anly_fit, marker=\"x\", color = 'black',s=40)\n",
    "plt.scatter(ID, tmatch_amp_Vec, marker = 'o', facecolor ='none',edgecolor='red',s=40 )\n",
    "plt.xticks(ID)\n",
    "plt.xlabel('Hybrid',fontsize=15)\n",
    "plt.ylabel(r't$_{\\rm match}$',fontsize=15)\n",
    "plt.title('Amplitude',fontsize=15)\n",
    "plt.tight_layout()\n",
    "plt.savefig('Anly_fit_amp.pdf',dpi=300)"
   ]
  },
  {
   "cell_type": "code",
   "execution_count": 69,
   "id": "0b6d640d",
   "metadata": {},
   "outputs": [
    {
     "name": "stdout",
     "output_type": "stream",
     "text": [
      "[ 1  2  3  4  5  6  7  8  9 10 11 12 13]\n"
     ]
    },
    {
     "data": {
      "image/png": "[encoded data removed]",
      "text/plain": [
       "<Figure size 600x400 with 1 Axes>"
      ]
     },
     "metadata": {},
     "output_type": "display_data"
    }
   ],
   "source": [
    "ID = np.arange(1,14,1)\n",
    "print(ID)\n",
    "plt.figure(figsize=(6,4))\n",
    "plt.scatter(ID, tfreq_Anly_fit, marker=\"x\", color = 'black',s=40)\n",
    "plt.scatter(ID, tmatch_freq_Vec, marker = 'o', facecolor ='none',edgecolor='red',s=40 )\n",
    "plt.xticks(ID)\n",
    "plt.xlabel('Hybrid',fontsize=15)\n",
    "plt.ylabel(r't$_{\\rm match}$',fontsize=15)\n",
    "plt.title('Frequency',fontsize=15)\n",
    "plt.tight_layout()\n",
    "plt.savefig('Anly_fit_freq.pdf',dpi=300)"
   ]
  },
  {
   "cell_type": "code",
   "execution_count": null,
   "id": "d844415e",
   "metadata": {},
   "outputs": [],
   "source": []
  }
 ],
 "metadata": {
  "kernelspec": {
   "display_name": "Python 3 (ipykernel)",
   "language": "python",
   "name": "python3"
  },
  "language_info": {
   "codemirror_mode": {
    "name": "ipython",
    "version": 3
   },
   "file_extension": ".py",
   "mimetype": "text/x-python",
   "name": "python",
   "nbconvert_exporter": "python",
   "pygments_lexer": "ipython3",
   "version": "3.7.13"
  }
 },
 "nbformat": 4,
 "nbformat_minor": 5
}

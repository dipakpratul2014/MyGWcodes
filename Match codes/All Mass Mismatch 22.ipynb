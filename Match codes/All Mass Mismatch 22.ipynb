{
 "cells": [
  {
   "cell_type": "code",
   "execution_count": 9,
   "id": "02cda7a0",
   "metadata": {},
   "outputs": [],
   "source": [
    "import h5py\n",
    "import math\n",
    "import array\n",
    "from numpy import *\n",
    "import numpy as np\n",
    "from pycbc.types import TimeSeries, FrequencySeries\n",
    "from pycbc.waveform import get_td_waveform, get_fd_waveform\n",
    "from pycbc import types, fft, waveform\n",
    "import lal\n",
    "from lal import MSUN_SI, MTSUN_SI, G_SI, PC_SI, C_SI, PI\n",
    "from pycbc.filter import match\n",
    "from pycbc.psd import aLIGOZeroDetHighPower\n",
    "from tqdm import tqdm\n",
    "from scipy import interpolate\n",
    "from scipy.interpolate import interp1d\n",
    "\n",
    "#from matplotlib import rcParams\n",
    "#rcParams.update({'figure.autolayout': True})\n",
    "#import matplotlib as mpl\n",
    "#mpl.rcParams['figure.dpi'] = 200\n",
    "#plt.rcParams[\"font.family\"] = \"monospace\"\n",
    " \n",
    "#from matplotlib import gridspec\n",
    "from matplotlib import ticker\n",
    "\n",
    "import matplotlib.pyplot as plt\n",
    "#plt.style.reload_library()\n",
    "#plt.style.use(['science','notebook'])"
   ]
  },
  {
   "cell_type": "code",
   "execution_count": 78,
   "id": "6f2224c7",
   "metadata": {},
   "outputs": [],
   "source": [
    "%run New_Analytical_Model-Copy1.ipynb #Change simulations as per requirement"
   ]
  },
  {
   "cell_type": "code",
   "execution_count": 11,
   "id": "a7cdee8e",
   "metadata": {},
   "outputs": [],
   "source": [
    "Numfit_data = np.loadtxt('/home/pratul/Downloads/Project/Analytical fits/New results/Best_dataset.txt') \n",
    "\n",
    "e0_list = Numfit_data[:,8]\n",
    "f0_list = Numfit_data[:,9]\n",
    "q0_list = Numfit_data[:,2]\n",
    "l0_list = Numfit_data[:,7]"
   ]
  },
  {
   "cell_type": "code",
   "execution_count": 14,
   "id": "d8397141",
   "metadata": {},
   "outputs": [],
   "source": [
    "inc = 0\n",
    "D = 1\n",
    "delta_t = 1./4096"
   ]
  },
  {
   "cell_type": "code",
   "execution_count": 76,
   "id": "1dd0a8cb",
   "metadata": {},
   "outputs": [
    {
     "name": "stderr",
     "output_type": "stream",
     "text": [
      "100%|███████████████████████████████████████████| 35/35 [00:36<00:00,  1.05s/it]\n"
     ]
    }
   ],
   "source": [
    "Mismatch_1355 = []\n",
    "for i in tqdm(range(30,201,5)):\n",
    "    k = model_22(i,q0_list[0], e0_list[0],l0_list[0],f0_list[0],inc,D,delta_t)\n",
    "    Mismatch_1355.append(k)"
   ]
  },
  {
   "cell_type": "code",
   "execution_count": 77,
   "id": "cb383d55",
   "metadata": {},
   "outputs": [
    {
     "name": "stdout",
     "output_type": "stream",
     "text": [
      "[0.002248104250747507, 0.004517123147817381, 0.002876619217044629, 0.003028427272409151, 0.004530357029897236, 0.003140668992886342, 0.0033843874411555452, 0.0040452445598567754, 0.0031578287291795792, 0.003398704845510081, 0.0035836158261428608, 0.0030010242187790137, 0.003212371058267993, 0.0031357253787637207, 0.0027566166021134597, 0.0029682015028027475, 0.002726428334171027, 0.0024986899919899885, 0.0027487485964586833, 0.0023632997538232114, 0.002293126155907599, 0.002407588879172473, 0.002099206915161078, 0.002149767239205347, 0.002056781944944519, 0.0019203444963323824, 0.0020657110784267907, 0.0018276864681879834, 0.00182264833915613, 0.001813495824347533, 0.0016925350455029298, 0.0017771480731529898, 0.0016450700949323105, 0.0016304850074719823, 0.0016585586836710409]\n"
     ]
    }
   ],
   "source": [
    "print(Mismatch_1355)"
   ]
  },
  {
   "cell_type": "code",
   "execution_count": 24,
   "id": "3b336844",
   "metadata": {},
   "outputs": [
    {
     "name": "stderr",
     "output_type": "stream",
     "text": [
      "100%|███████████████████████████████████████████| 35/35 [00:33<00:00,  1.03it/s]\n"
     ]
    }
   ],
   "source": [
    "Mismatch_1356 = []\n",
    "for i in tqdm(range(30,201,5)):\n",
    "    k = model_22(i,q0_list[1], e0_list[1],l0_list[1],f0_list[1],inc,D,delta_t)\n",
    "    Mismatch_1356.append(k)"
   ]
  },
  {
   "cell_type": "code",
   "execution_count": 25,
   "id": "031b6549",
   "metadata": {},
   "outputs": [
    {
     "name": "stdout",
     "output_type": "stream",
     "text": [
      "[0.024560840365745462, 0.028567173521082734, 0.02841124815680407, 0.028950507114998136, 0.03041715260722966, 0.029380952881899347, 0.028594723448336135, 0.028378484677889948, 0.026245478798431976, 0.025574961335034785, 0.023399251617400085, 0.022119449580798478, 0.02043950204906997, 0.018890042620936853, 0.017626552952384134, 0.01601476783925082, 0.015150261202609205, 0.013570186571279508, 0.012795645476854856, 0.011570800990270969, 0.010750145638593, 0.009972822732712494, 0.009148180966511377, 0.008732698476080158, 0.007917828835963703, 0.007502991219034416, 0.006992614205392544, 0.006541200269768344, 0.006324996573732533, 0.005835256927648413, 0.005611346880573298, 0.005333188021753421, 0.005066520808198582, 0.004992197687219813, 0.004690108626779432]\n"
     ]
    }
   ],
   "source": [
    "print(Mismatch_1356)"
   ]
  },
  {
   "cell_type": "code",
   "execution_count": 27,
   "id": "b21ad121",
   "metadata": {},
   "outputs": [
    {
     "name": "stderr",
     "output_type": "stream",
     "text": [
      "100%|███████████████████████████████████████████| 35/35 [00:50<00:00,  1.45s/it]\n"
     ]
    }
   ],
   "source": [
    "Mismatch_1358 = []\n",
    "for i in tqdm(range(30,201,5)):\n",
    "    k = model_22(i,q0_list[2], e0_list[2],l0_list[2],f0_list[2],inc,D,delta_t)\n",
    "    Mismatch_1358.append(k)"
   ]
  },
  {
   "cell_type": "code",
   "execution_count": 28,
   "id": "84f1e9d4",
   "metadata": {},
   "outputs": [
    {
     "name": "stdout",
     "output_type": "stream",
     "text": [
      "[0.007210742766050604, 0.008577833263125556, 0.007792234357284156, 0.009305722018652207, 0.009209476047313037, 0.009093827591849735, 0.010390780317385162, 0.00928593578528547, 0.009438022727785822, 0.009411373997013195, 0.008842066166789397, 0.00899576029593474, 0.008382454510383663, 0.008041401879485877, 0.008117160509619081, 0.007352631683343769, 0.006928689129764076, 0.0071917546195972015, 0.0064426778908918125, 0.006140351390060639, 0.006311470336137659, 0.005748100941439072, 0.005565625260764762, 0.005650316951792189, 0.005279622844137299, 0.005208629982009216, 0.005239560293330836, 0.005022914497982978, 0.005042681879160349, 0.0050355576123957135, 0.004930145364433258, 0.004884542698532557, 0.004986010857951029, 0.0049759572089587145, 0.004856750802025744]\n"
     ]
    }
   ],
   "source": [
    "print(Mismatch_1358)"
   ]
  },
  {
   "cell_type": "code",
   "execution_count": 79,
   "id": "d523be65",
   "metadata": {},
   "outputs": [
    {
     "name": "stderr",
     "output_type": "stream",
     "text": [
      "100%|███████████████████████████████████████████| 35/35 [00:51<00:00,  1.46s/it]\n"
     ]
    }
   ],
   "source": [
    "Mismatch_1359 = []\n",
    "for i in tqdm(range(30,201,5)):\n",
    "    k = model_22(i,q0_list[3], e0_list[3],l0_list[3],f0_list[3],inc,D,delta_t)\n",
    "    Mismatch_1359.append(k)"
   ]
  },
  {
   "cell_type": "code",
   "execution_count": 80,
   "id": "77ee198e",
   "metadata": {},
   "outputs": [
    {
     "name": "stdout",
     "output_type": "stream",
     "text": [
      "[0.01024193806583118, 0.01222818299160744, 0.01156405571188479, 0.012658873116568992, 0.012580053139438108, 0.01259782209963578, 0.013065116309447622, 0.01229916436452072, 0.013143472561223613, 0.011808830461914499, 0.01194895237519722, 0.011328036003945163, 0.010848244473345425, 0.010729938599407629, 0.009944376136000743, 0.009912635980509399, 0.009105176237523382, 0.008797589651497018, 0.008506001174969136, 0.007829602416864145, 0.007742414293539723, 0.007179258696082713, 0.006767327786997734, 0.006719027849675041, 0.006143334245957255, 0.005897863486722055, 0.0057214034048646, 0.00534143936542486, 0.005200604296810685, 0.004848173357624441, 0.0047327454986632045, 0.0046229345434839475, 0.00429915226940647, 0.004276530559595204, 0.0041160551820321745]\n"
     ]
    }
   ],
   "source": [
    "print(Mismatch_1359)"
   ]
  },
  {
   "cell_type": "code",
   "execution_count": 37,
   "id": "60e663e7",
   "metadata": {},
   "outputs": [
    {
     "name": "stderr",
     "output_type": "stream",
     "text": [
      "100%|███████████████████████████████████████████| 35/35 [01:02<00:00,  1.78s/it]\n"
     ]
    }
   ],
   "source": [
    "Mismatch_1360 = []\n",
    "for i in tqdm(range(30,201,5)):\n",
    "    k = model_22(i,q0_list[4], e0_list[4],l0_list[4],f0_list[4],inc,D,delta_t)\n",
    "    Mismatch_1360.append(k)"
   ]
  },
  {
   "cell_type": "code",
   "execution_count": 38,
   "id": "d57b06d7",
   "metadata": {},
   "outputs": [
    {
     "name": "stdout",
     "output_type": "stream",
     "text": [
      "[0.019906864782719857, 0.023758002408329926, 0.02487167485270947, 0.02619888970723927, 0.028195520699083265, 0.030401280186549084, 0.030152513655168467, 0.0305457095886007, 0.031456772812035405, 0.03086719911686009, 0.03032381223151337, 0.03030148359822893, 0.02919521843181727, 0.028284984800108104, 0.027815172521772014, 0.02632925207035053, 0.02547288724195229, 0.024361682545667063, 0.023193172230850267, 0.022342993068966588, 0.021059670356017413, 0.020297420150089063, 0.019057659843798147, 0.01822554876050908, 0.017217612311390074, 0.016373993617706417, 0.015550538894236743, 0.014712581305525885, 0.013999495099036419, 0.013245072316193651, 0.012673404603662397, 0.01196185425995433, 0.011467633020634471, 0.01083191797542804, 0.010356250251919219]\n"
     ]
    }
   ],
   "source": [
    "print(Mismatch_1360)"
   ]
  },
  {
   "cell_type": "code",
   "execution_count": 40,
   "id": "db814bc8",
   "metadata": {},
   "outputs": [
    {
     "name": "stderr",
     "output_type": "stream",
     "text": [
      "100%|███████████████████████████████████████████| 35/35 [01:05<00:00,  1.88s/it]\n"
     ]
    }
   ],
   "source": [
    "Mismatch_1361 = []\n",
    "for i in tqdm(range(30,201,5)):\n",
    "    k = model_22(i,q0_list[5], e0_list[5],l0_list[5],f0_list[5],inc,D,delta_t)\n",
    "    Mismatch_1361.append(k)"
   ]
  },
  {
   "cell_type": "code",
   "execution_count": 41,
   "id": "d0884df0",
   "metadata": {},
   "outputs": [
    {
     "name": "stdout",
     "output_type": "stream",
     "text": [
      "[0.02320450345031544, 0.025350617984180257, 0.028643222121200296, 0.028766926697036066, 0.029804610616638638, 0.03174455058269132, 0.03157640834862707, 0.03139017157843582, 0.031894250574248995, 0.030831248297568892, 0.02980339456980552, 0.02930178792367344, 0.027691436331544028, 0.026309936026633896, 0.025450973374821273, 0.023872631027421987, 0.022434982072625842, 0.021644690104116737, 0.020144100536016896, 0.019147195743377754, 0.018128198143367413, 0.017022290385470096, 0.016384972336584203, 0.015497779468799378, 0.014799263635732363, 0.014040968332125314, 0.01333936127323998, 0.012962088260321192, 0.01236016080014346, 0.011723735569437177, 0.011322244440330476, 0.010926955185305398, 0.010725191388891386, 0.01005730366959423, 0.009885865238992708]\n"
     ]
    }
   ],
   "source": [
    "print(Mismatch_1361)"
   ]
  },
  {
   "cell_type": "code",
   "execution_count": 43,
   "id": "e4cd5142",
   "metadata": {},
   "outputs": [
    {
     "name": "stderr",
     "output_type": "stream",
     "text": [
      "100%|███████████████████████████████████████████| 35/35 [00:39<00:00,  1.11s/it]\n"
     ]
    }
   ],
   "source": [
    "Mismatch_1364 = []\n",
    "for i in tqdm(range(30,201,5)):\n",
    "    k = model_22(i,q0_list[6], e0_list[6],l0_list[6],f0_list[6],inc,D,delta_t)\n",
    "    Mismatch_1364.append(k)"
   ]
  },
  {
   "cell_type": "code",
   "execution_count": 44,
   "id": "207790b8",
   "metadata": {},
   "outputs": [
    {
     "name": "stdout",
     "output_type": "stream",
     "text": [
      "[0.010747525268320124, 0.012107257327974685, 0.01249239283923842, 0.013522726547284702, 0.01314193332647684, 0.014336987621871744, 0.013129241295317895, 0.01339945168721679, 0.012869561036784716, 0.012174990476428782, 0.0122969786321947, 0.011201714926265427, 0.010581862082574722, 0.010504950833562177, 0.009377909463868628, 0.008820362417347294, 0.008586980002476707, 0.0076627072691412, 0.007193269740060404, 0.006917438546170773, 0.006203878045174527, 0.0058688954091160594, 0.0055688049813003015, 0.005051927926358557, 0.004841671323026264, 0.0045312142941259514, 0.004180738067722678, 0.004081824554026392, 0.003761760498399269, 0.003542345736773256, 0.003478709723479634, 0.003204785662372922, 0.0030907838602707294, 0.0029732783399585294, 0.002813696224452822]\n"
     ]
    }
   ],
   "source": [
    "print(Mismatch_1364)"
   ]
  },
  {
   "cell_type": "code",
   "execution_count": 46,
   "id": "f0d84357",
   "metadata": {},
   "outputs": [
    {
     "name": "stderr",
     "output_type": "stream",
     "text": [
      "100%|███████████████████████████████████████████| 35/35 [00:43<00:00,  1.25s/it]\n"
     ]
    }
   ],
   "source": [
    "Mismatch_1365 = []\n",
    "for i in tqdm(range(30,201,5)):\n",
    "    k = model_22(i,q0_list[7], e0_list[7],l0_list[7],f0_list[7],inc,D,delta_t)\n",
    "    Mismatch_1365.append(k)"
   ]
  },
  {
   "cell_type": "code",
   "execution_count": 47,
   "id": "175d7d90",
   "metadata": {},
   "outputs": [
    {
     "name": "stdout",
     "output_type": "stream",
     "text": [
      "[0.027644837594858362, 0.03099323665667586, 0.031279916352822235, 0.033663086691559596, 0.032406652579366924, 0.03333152423578445, 0.03156828672178036, 0.031014125889983757, 0.029806618497788095, 0.028192558323476002, 0.027383675703236965, 0.02554349922302035, 0.024005060056346617, 0.02301011016635468, 0.021312216336407896, 0.019862069025993412, 0.01887751137928706, 0.01749627711585211, 0.01628953354248286, 0.015433119630282488, 0.014362041431511763, 0.013380328023961163, 0.012701260068513132, 0.011866667805397135, 0.01110791012062673, 0.010538601787937418, 0.009886111267646158, 0.009321917076177577, 0.008967468267461087, 0.00844981831065672, 0.00805493471858687, 0.007833882344231213, 0.007405515458596912, 0.007150144921235002, 0.00695614063084804]\n"
     ]
    }
   ],
   "source": [
    "print(Mismatch_1365)"
   ]
  },
  {
   "cell_type": "code",
   "execution_count": 49,
   "id": "61c56ffc",
   "metadata": {},
   "outputs": [
    {
     "name": "stderr",
     "output_type": "stream",
     "text": [
      "100%|███████████████████████████████████████████| 35/35 [00:57<00:00,  1.64s/it]\n"
     ]
    }
   ],
   "source": [
    "Mismatch_1366 = []\n",
    "for i in tqdm(range(30,201,5)):\n",
    "    k = model_22(i,q0_list[8], e0_list[8],l0_list[8],f0_list[8],inc,D,delta_t)\n",
    "    Mismatch_1366.append(k)"
   ]
  },
  {
   "cell_type": "code",
   "execution_count": 50,
   "id": "e3e9d8f9",
   "metadata": {},
   "outputs": [
    {
     "name": "stdout",
     "output_type": "stream",
     "text": [
      "[0.012180048795206733, 0.01211347475036162, 0.014555525226076504, 0.014247867168877493, 0.014677052077955444, 0.01576941131610954, 0.014681753584198654, 0.014864302087597259, 0.014545520945503765, 0.013611807739665416, 0.013474731751724867, 0.012519904387336522, 0.011833019565261393, 0.011501357269206314, 0.010417789413735057, 0.009890032557664075, 0.009275631396525652, 0.008501567991809567, 0.008377102163762196, 0.007460447197354836, 0.007145354807606474, 0.00683443841198339, 0.0062563586285411255, 0.006164145417880795, 0.005640699722816334, 0.005420232807922698, 0.005231449500223806, 0.004922458914646155, 0.004710829285235474, 0.004598418499863088, 0.004433457259633844, 0.004308273301607768, 0.004179194585553825, 0.0039816959960286, 0.004033334822597823]\n"
     ]
    }
   ],
   "source": [
    "print(Mismatch_1366)"
   ]
  },
  {
   "cell_type": "code",
   "execution_count": 52,
   "id": "72a91e99",
   "metadata": {},
   "outputs": [
    {
     "name": "stderr",
     "output_type": "stream",
     "text": [
      "100%|███████████████████████████████████████████| 35/35 [01:00<00:00,  1.72s/it]\n"
     ]
    }
   ],
   "source": [
    "Mismatch_1367 = []\n",
    "for i in tqdm(range(30,201,5)):\n",
    "    k = model_22(i,q0_list[9], e0_list[9],l0_list[9],f0_list[9],inc,D,delta_t)\n",
    "    Mismatch_1367.append(k)"
   ]
  },
  {
   "cell_type": "code",
   "execution_count": 53,
   "id": "35a7a564",
   "metadata": {},
   "outputs": [
    {
     "name": "stdout",
     "output_type": "stream",
     "text": [
      "[0.02192249919399747, 0.02598686815986051, 0.026247857348316472, 0.02734474385817287, 0.02897167947069179, 0.027590377942387057, 0.02723735527631077, 0.026724883002098965, 0.025057076552703506, 0.02437928465086181, 0.022950548763540857, 0.021623925433990165, 0.021032617795147313, 0.01932259398981573, 0.018440887681833718, 0.017326148341594516, 0.01624404470702101, 0.015580167130501588, 0.014398645131078136, 0.013800056986573828, 0.012802123141257837, 0.012156139998069526, 0.011455324719910731, 0.010772858966744625, 0.010285891909280531, 0.009609036288869999, 0.00928227364598555, 0.008637859319537977, 0.008283532312064912, 0.007806052523138152, 0.007468140587167604, 0.007127520959621436, 0.006796891431899765, 0.006574292820557437, 0.006247907287515675]\n"
     ]
    }
   ],
   "source": [
    "print(Mismatch_1367)"
   ]
  },
  {
   "cell_type": "code",
   "execution_count": 55,
   "id": "67bb2966",
   "metadata": {},
   "outputs": [
    {
     "name": "stderr",
     "output_type": "stream",
     "text": [
      "100%|███████████████████████████████████████████| 35/35 [01:02<00:00,  1.80s/it]\n"
     ]
    }
   ],
   "source": [
    "Mismatch_1368 = []\n",
    "for i in tqdm(range(30,201,5)):\n",
    "    k = model_22(i,q0_list[10], e0_list[10],l0_list[10],f0_list[10],inc,D,delta_t)\n",
    "    Mismatch_1368.append(k)"
   ]
  },
  {
   "cell_type": "code",
   "execution_count": 56,
   "id": "3e81c8a4",
   "metadata": {},
   "outputs": [
    {
     "name": "stdout",
     "output_type": "stream",
     "text": [
      "[0.02422704509732576, 0.02599383042962633, 0.03030755215088954, 0.031711911579429986, 0.035132750211496866, 0.035438172894765585, 0.036816233122368036, 0.037254222863703945, 0.03676761119470584, 0.03669565126074259, 0.03572401215626453, 0.034271074845787286, 0.033126989440493415, 0.03195461226517193, 0.030051587685286818, 0.028507862688145758, 0.02724523915798316, 0.025687019021964907, 0.02417821754155236, 0.02299952352693646, 0.021919686334265998, 0.02064086667536491, 0.01969258494605841, 0.018949594420682003, 0.017965032667656367, 0.01727883205785319, 0.01676497214278616, 0.016060791508930028, 0.015614638557991722, 0.015245368798883274, 0.014783543770090612, 0.014542707903984264, 0.0142705805364437, 0.014001074440638694, 0.013925110281754804]\n"
     ]
    }
   ],
   "source": [
    "print(Mismatch_1368)"
   ]
  },
  {
   "cell_type": "code",
   "execution_count": 59,
   "id": "0cdbeb1c",
   "metadata": {},
   "outputs": [
    {
     "name": "stderr",
     "output_type": "stream",
     "text": [
      "100%|███████████████████████████████████████████| 35/35 [01:05<00:00,  1.88s/it]\n"
     ]
    }
   ],
   "source": [
    "Mismatch_1372 = []\n",
    "for i in tqdm(range(30,201,5)):\n",
    "    k = model_22(i,q0_list[11], e0_list[11],l0_list[11],f0_list[11],inc,D,delta_t)\n",
    "    Mismatch_1372.append(k)"
   ]
  },
  {
   "cell_type": "code",
   "execution_count": 60,
   "id": "f4370eaa",
   "metadata": {},
   "outputs": [
    {
     "name": "stdout",
     "output_type": "stream",
     "text": [
      "[0.021784994269407276, 0.025330223258690165, 0.026064891372078236, 0.02716980753790088, 0.02867648331646011, 0.02814455875618127, 0.027621784439668673, 0.02758370714670777, 0.025803262885661482, 0.02481652946464652, 0.023824581954457136, 0.022204636532787037, 0.02115182582178221, 0.020143533757047694, 0.018694185825650633, 0.0176081513227907, 0.016887615187700322, 0.01571334461208529, 0.014658634497316192, 0.01387494134513001, 0.013217414317854281, 0.012335583078339152, 0.011579657685313438, 0.010909795532287103, 0.010431692749210741, 0.009804097495118236, 0.009226590568760407, 0.008762257587199396, 0.008328214871410222, 0.00800217129182712, 0.0075581022270082565, 0.007140516701253596, 0.0068738967437871334, 0.006607527237113664, 0.006309260793870397]\n"
     ]
    }
   ],
   "source": [
    "print(Mismatch_1372)"
   ]
  },
  {
   "cell_type": "code",
   "execution_count": 62,
   "id": "1ff7eb24",
   "metadata": {},
   "outputs": [
    {
     "name": "stderr",
     "output_type": "stream",
     "text": [
      "100%|███████████████████████████████████████████| 35/35 [01:08<00:00,  1.97s/it]\n"
     ]
    }
   ],
   "source": [
    "Mismatch_1373 = []\n",
    "for i in tqdm(range(30,201,5)):\n",
    "    k = model_22(i,q0_list[12], e0_list[12],l0_list[12],f0_list[12],inc,D,delta_t)\n",
    "    Mismatch_1373.append(k)"
   ]
  },
  {
   "cell_type": "code",
   "execution_count": 63,
   "id": "ceaa8e49",
   "metadata": {},
   "outputs": [
    {
     "name": "stdout",
     "output_type": "stream",
     "text": [
      "[0.01319759857366487, 0.013491793742329672, 0.014621059500359745, 0.01669004895801407, 0.015975722616963006, 0.016081659772290813, 0.01673442817780768, 0.015922896802290976, 0.015191827536185976, 0.014983129191088018, 0.014362452312519092, 0.01326165390980305, 0.012649970763025986, 0.012264727145718246, 0.01113404072824875, 0.010448311287349354, 0.010069560107062059, 0.009243885745127356, 0.008593412483352214, 0.008205665859660871, 0.007741190485226257, 0.00716235610917193, 0.006804655814857119, 0.00656637787119474, 0.006096989460839031, 0.005751409624425441, 0.005556932677205695, 0.00528643971019882, 0.005002008876642261, 0.004814927026691507, 0.004715444878483299, 0.004468703119326123, 0.004266330163218424, 0.004169768272011765, 0.004066519362626364]\n"
     ]
    }
   ],
   "source": [
    "print(Mismatch_1373)"
   ]
  },
  {
   "cell_type": "code",
   "execution_count": 65,
   "id": "8047ea57",
   "metadata": {},
   "outputs": [],
   "source": [
    "# Plot settings\n",
    "estr = e0_list\n",
    "tick = np.linspace(0.1,0.4,7)  #low\n",
    "tick = np.linspace(0.1,0.4,11)\n",
    "tick = np.around(tick,decimals=2)"
   ]
  },
  {
   "cell_type": "code",
   "execution_count": 66,
   "id": "19966355",
   "metadata": {},
   "outputs": [],
   "source": [
    "import matplotlib.pyplot as mpl\n",
    "from matplotlib.ticker import LogFormatter\n",
    "from matplotlib import rc"
   ]
  },
  {
   "cell_type": "code",
   "execution_count": 67,
   "id": "a59ecbe0",
   "metadata": {},
   "outputs": [],
   "source": [
    "plt.rc('xtick', labelsize=14) \n",
    "plt.rc('ytick', labelsize=14) \n",
    "mpl.rcParams['xtick.major.size'] = 12\n",
    "mpl.rcParams['xtick.major.width'] = 1\n",
    "mpl.rcParams['xtick.minor.size'] = 8\n",
    "mpl.rcParams['xtick.minor.width'] = 1\n",
    "mpl.rcParams['ytick.major.size'] = 12\n",
    "mpl.rcParams['ytick.major.width'] = 1\n",
    "mpl.rcParams['ytick.minor.size'] = 8\n",
    "mpl.rcParams['ytick.minor.width'] = 1"
   ]
  },
  {
   "cell_type": "code",
   "execution_count": 82,
   "id": "c1bdfd7a",
   "metadata": {},
   "outputs": [
    {
     "name": "stderr",
     "output_type": "stream",
     "text": [
      "/home/pratul/anaconda3/envs/pycbc/lib/python3.7/site-packages/ipykernel_launcher.py:36: UserWarning: FixedFormatter should only be used together with FixedLocator\n"
     ]
    },
    {
     "data": {
      "image/png": "[encoded data removed]",
      "text/plain": [
       "<Figure size 700x480 with 2 Axes>"
      ]
     },
     "metadata": {},
     "output_type": "display_data"
    }
   ],
   "source": [
    "Mtot = range(30,201,5)\n",
    "len(Mtot)\n",
    "plt.figure(figsize=(7,4.8))   \n",
    "binl = 0.001\n",
    "N = int((0.4-0.1)/binl)\n",
    "cmap = plt.get_cmap('rainbow', N)\n",
    "sm = plt.cm.ScalarMappable(cmap=cmap)#, norm=norm)\n",
    "lw = [2,0.8,1.2,1.5]\n",
    "lsty=['-','--',':']\n",
    "\n",
    "plt.axhline(y = 1-0.965, color = 'k', linestyle = '-',linewidth = 1)\n",
    "plt.axhline(y = 1-0.99, color = 'k', linestyle = '-',linewidth = 1)\n",
    "\n",
    "plt.plot(Mtot,np.array(Mismatch_1355),linestyle=lsty[0],linewidth = lw[2],c=cmap(int((estr[0]-0.1)/binl)))\n",
    "plt.plot(Mtot,np.array(Mismatch_1356),linestyle=lsty[0],linewidth = lw[2],c=cmap(int((estr[1]-0.1)/binl)))\n",
    "plt.plot(Mtot,np.array(Mismatch_1358),linestyle=lsty[0],linewidth = lw[2],c=cmap(int((estr[2]-0.1)/binl)))\n",
    "plt.plot(Mtot,np.array(Mismatch_1359),linestyle=lsty[0],linewidth = lw[2],c=cmap(int((estr[3]-0.1)/binl)))\n",
    "plt.plot(Mtot,np.array(Mismatch_1360),linestyle=lsty[0],linewidth = lw[2],c=cmap(int((estr[4]-0.1)/binl)))\n",
    "plt.plot(Mtot,np.array(Mismatch_1361),linestyle=lsty[0],linewidth = lw[2],c=cmap(int((estr[5]-0.1)/binl)))\n",
    "plt.plot(Mtot,np.array(Mismatch_1364),linestyle=lsty[1],linewidth = lw[2],c=cmap(int((estr[6]-0.1)/binl)))\n",
    "plt.plot(Mtot,np.array(Mismatch_1365),linestyle=lsty[1],linewidth = lw[2],c=cmap(int((estr[7]-0.1)/binl)))\n",
    "plt.plot(Mtot,np.array(Mismatch_1366),linestyle=lsty[1],linewidth = lw[2],c=cmap(int((estr[8]-0.1)/binl)))\n",
    "plt.plot(Mtot,np.array(Mismatch_1367),linestyle=lsty[1],linewidth = lw[2],c=cmap(int((estr[9]-0.1)/binl)))\n",
    "plt.plot(Mtot,np.array(Mismatch_1368),linestyle=lsty[1],linewidth = lw[2],c=cmap(int((estr[10]-0.1)/binl)))\n",
    "plt.plot(Mtot,np.array(Mismatch_1372),linestyle=lsty[2],linewidth = lw[2],c=cmap(int((estr[11]-0.1)/binl)))\n",
    "plt.plot(Mtot,np.array(Mismatch_1373),linestyle=lsty[2],linewidth = lw[2],c=cmap(int((estr[12]-0.1)/binl)))\n",
    "\n",
    "\n",
    "\n",
    "\n",
    "cbar = plt.colorbar(sm,pad=0.01)\n",
    "tick_locator = ticker.MaxNLocator(nbins=11)\n",
    "cbar.locator = tick_locator\n",
    "cbar.update_ticks()\n",
    "\n",
    "cbar.ax.set_yticklabels(tick)\n",
    "cbar.set_label(label='Eccentricity$(e_o)$',size=15)\n",
    "#cbar.set_ticklabels([\"22\", \"21\", \"33\", \"32\",\"44\",\"43\",\"55\"])\n",
    "cbar.ax.tick_params(labelsize=14,width=1.5, length=5)\n",
    "cbar.ax.tick_params(which=\"minor\",width=1, length=3)\n",
    "cbar.ax.tick_params(which=\"major\",width=1, length=6)\n",
    "\n",
    "plt.title(r'$\\iota = 0$', fontsize = 15, loc = 'center')\n",
    "plt.ylim(ymax=6.5e-1)\n",
    "plt.ylim(ymin=4e-4)\n",
    "#plt.ylim(ymin=1e-3)\n",
    "plt.xlim(xmin=30)\n",
    "plt.xlim(xmax=200)\n",
    "\n",
    "plt.yscale('log')\n",
    "\n",
    "\n",
    "#plt.title(\"PN-NR\",fontsize=18)\n",
    "plt.ylabel(r'$1-\\mathscr{M}$',fontsize=15)\n",
    "plt.xlabel(r'$M/M_\\odot$',fontsize=15)\n",
    "\n",
    "\n",
    "#plt.grid()\n",
    "#plt.legend(loc=2,ncol=2,prop={'size': 15},bbox_to_anchor=(1, 0.5))\n",
    "#plt.legend(loc=2,ncol=2,prop={'size': 30})\n",
    "\n",
    "\n",
    "#from matplotlib.patches import Rectangle\n",
    "from matplotlib.lines import Line2D\n",
    "#from matplotlib.legend_handler import HandlerBase\n",
    "\n",
    "#class HandlerColormap(HandlerBase):\n",
    "#    def __init__(self, cmap, num_stripes=8, **kw):\n",
    "#        HandlerBase.__init__(self, **kw)\n",
    "#        self.cmap = cmap\n",
    "#        self.num_stripes = num_stripes\n",
    "#    def create_artists(self, legend, orig_handle, \n",
    "#                       xdescent, ydescent, width, height, fontsize, trans):\n",
    "#        stripes = []\n",
    "#        for i in range(self.num_stripes):\n",
    "#            s = Rectangle([xdescent + i * width / self.num_stripes, ydescent+7], \n",
    "#                          width / self.num_stripes, \n",
    "#                          height/4.5, \n",
    "#                          fc=self.cmap((2 * i + 1) / (2 * self.num_stripes)), \n",
    "#                          transform=trans)\n",
    "#            stripes.append(s)\n",
    "#        return stripes\n",
    "\n",
    "x_array = np.linspace(10000, 10001, 1)\n",
    "y_array = x_array\n",
    "param_max = x_array.size\n",
    "#cmaps = [plt.get_cmap('Set2', 7)]##)]#[plt.cm.Set2]  # set of colormaps \n",
    "                                        # (as many as there are groups of lines)\n",
    "\n",
    "for param, (x, y) in enumerate(zip(x_array, y_array)):  \n",
    "    x_line1 = np.linspace(x, 1.5 * x, 10)\n",
    "    y_line1 = np.linspace(y**2, y**2 - x, 10)\n",
    "    x_line2 = np.linspace(x, 1.5 * x, 10)\n",
    "    y_line2 = np.linspace(y**2, y**2 - x, 10)\n",
    "    x_line3 = np.linspace(x, 1.5 * x, 10)\n",
    "    y_line3 = np.linspace(y**2, y**2 - x, 10)\n",
    "\n",
    "    # plot lines with color depending on param using different colormaps:\n",
    "    #plt.plot(x_line1, y_line1, c=cmaps[0](param / param_max))\n",
    "    plt.plot(x_line1, y_line1)\n",
    "    plt.plot(x_line2, y_line2)\n",
    "    plt.plot(x_line3, y_line3)\n",
    "\n",
    "\n",
    "lgd1 = Line2D([0], [0], color='black', linewidth=lw[2],linestyle=lsty[0])   \n",
    "lgd2 = Line2D([0], [0], color='black', linewidth=lw[2],linestyle=lsty[1])  \n",
    "lgd3 = Line2D([0], [0], color='black', linewidth=lw[2],linestyle=lsty[2])  \n",
    "    \n",
    "cmap_labels = [r\"$q=1$\",r\"$q=2$\",r\"$q=3$\"]\n",
    "## create proxy artists as handles:\n",
    "##cmap_handles = [Rectangle((0, 0), 1, 1) for _ in cmaps]\n",
    "##cmap_handles = [Rectangle((0, 0), 1, 1)]\n",
    "cmap_handles = []\n",
    "cmap_handles.append(lgd1)\n",
    "cmap_handles.append(lgd2)\n",
    "cmap_handles.append(lgd3)\n",
    "##handler_map = dict(zip(cmap_handles, [HandlerColormap(cm, num_stripes=7) for cm in cmaps]))\n",
    "plt.legend(handles=cmap_handles, \n",
    "           labels=cmap_labels, \n",
    "           ncol = 1, loc=4 ,bbox_to_anchor=(0.98,0.02),prop={'size': 15})\n",
    "        \n",
    "#plt.axvline(x=100,linestyle='--',color='grey',linewidth=1,dashes=(10,4),alpha=0.7)\n",
    "\n",
    "plt.tight_layout()\n",
    "plt.tick_params(axis='x', which='minor', bottom=False, top=False)        \n",
    "\n",
    "plt.savefig('New Mismatch_plot_allMass.pdf',dpi=300)\n",
    "plt.show()"
   ]
  },
  {
   "cell_type": "code",
   "execution_count": 71,
   "id": "f5bdcb0f",
   "metadata": {},
   "outputs": [
    {
     "data": {
      "text/plain": [
       "35"
      ]
     },
     "execution_count": 71,
     "metadata": {},
     "output_type": "execute_result"
    }
   ],
   "source": [
    "len(Mtot)"
   ]
  },
  {
   "cell_type": "code",
   "execution_count": 73,
   "id": "531e143f",
   "metadata": {},
   "outputs": [
    {
     "data": {
      "text/plain": [
       "35"
      ]
     },
     "execution_count": 73,
     "metadata": {},
     "output_type": "execute_result"
    }
   ],
   "source": [
    "len(Mismatch_1356)"
   ]
  },
  {
   "cell_type": "code",
   "execution_count": null,
   "id": "6abd7f45",
   "metadata": {},
   "outputs": [],
   "source": []
  }
 ],
 "metadata": {
  "kernelspec": {
   "display_name": "Python 3 (ipykernel)",
   "language": "python",
   "name": "python3"
  },
  "language_info": {
   "codemirror_mode": {
    "name": "ipython",
    "version": 3
   },
   "file_extension": ".py",
   "mimetype": "text/x-python",
   "name": "python",
   "nbconvert_exporter": "python",
   "pygments_lexer": "ipython3",
   "version": "3.7.13"
  }
 },
 "nbformat": 4,
 "nbformat_minor": 5
}

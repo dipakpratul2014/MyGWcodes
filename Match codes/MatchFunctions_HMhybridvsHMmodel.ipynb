{
 "cells": [
  {
   "cell_type": "code",
   "execution_count": 1,
   "metadata": {},
   "outputs": [],
   "source": [
    "import h5py\n",
    "import math\n",
    "import array\n",
    "from numpy import *\n",
    "import numpy as np\n",
    "from pycbc.types import TimeSeries, FrequencySeries\n",
    "from pycbc.waveform import get_td_waveform, get_fd_waveform\n",
    "from pycbc import types, fft, waveform\n",
    "import lal\n",
    "from lal import MSUN_SI, MTSUN_SI, G_SI, PC_SI, C_SI, PI\n",
    "from pycbc.filter import match\n",
    "from pycbc.psd import aLIGOZeroDetHighPower\n",
    "from tqdm import tqdm\n",
    "from scipy import interpolate\n",
    "from scipy.interpolate import interp1d\n",
    "\n",
    "from matplotlib import rcParams\n",
    "rcParams.update({'figure.autolayout': True})\n",
    "import matplotlib as mpl\n",
    "mpl.rcParams['figure.dpi'] = 200\n",
    "#plt.rcParams[\"font.family\"] = \"monospace\"\n",
    " \n",
    "from matplotlib import gridspec\n",
    "from matplotlib import ticker\n",
    "\n",
    "import matplotlib.pyplot as plt\n",
    "plt.style.reload_library()\n",
    "plt.style.use(['science','notebook'])"
   ]
  },
  {
   "cell_type": "code",
   "execution_count": 2,
   "metadata": {},
   "outputs": [],
   "source": [
    "%run model_allmode.ipynb  #have this file in the same dirctory as the match code"
   ]
  },
  {
   "cell_type": "code",
   "execution_count": 17,
   "metadata": {},
   "outputs": [],
   "source": [
    "def intp(t,h):\n",
    "    #delta_t=np.max(abs(np.diff(t)))   #max or min not the mean (t/M = 10, in secs it is 5*10**-5)\n",
    "    delta_t  = 1/4096\n",
    "    #### interpolation to sample data at equispaced time points\n",
    "    tVec_NR_int = np.linspace(t[0],t[-1],int(abs(t[-1]-t[0])/delta_t)) \n",
    "    hp_NR_sample = interp1d(t,h,kind='cubic')\n",
    "    hp_NR_int = hp_NR_sample(tVec_NR_int)\n",
    "    \n",
    "    return(tVec_NR_int,hp_NR_int)"
   ]
  },
  {
   "cell_type": "markdown",
   "metadata": {},
   "source": [
    "#### higher mode target hybrid vs higher mode template model match \n",
    "#### the template model is our HM model"
   ]
  },
  {
   "cell_type": "code",
   "execution_count": 39,
   "metadata": {},
   "outputs": [],
   "source": [
    "xlow=0.045\n",
    "L=5\n",
    "\n",
    "\n",
    "def freq(j):\n",
    "    return(xlow**(3/2)/(j*MTSUN_SI*math.pi))\n",
    "\n",
    "\n",
    "def loop(angle,f_ini=1):\n",
    "    \n",
    "    mass_array=[]\n",
    "    match_array=[]\n",
    "    mismatch_array=[]\n",
    "    \n",
    "    theta=angle\n",
    "    \n",
    "    L=5\n",
    "    for l in range(1,L+1):\n",
    "        \n",
    "        for m in range(-l,l+1):\n",
    "            dlm = 0;\n",
    "            k1 = max([0, m-2]);\n",
    "            k2 = min([l+m, l-2]);\n",
    "\n",
    "            #if(m==l or m==l-1):\n",
    "            for k in range(k1,k2+1):\n",
    "                A = []; B = []; cosTerm = []; sinTerm = []; dlmTmp = [];\n",
    "\n",
    "                A = (-1)**k*math.sqrt(math.factorial(l+m)*math.factorial(l-m)*math.factorial(l+2)*math.factorial(l-2));\n",
    "                B = math.factorial(k)*math.factorial(k-m+2)*math.factorial(l+m-k)*math.factorial(l-k-2);\n",
    "\n",
    "                cosTerm = pow(math.cos(theta/2), 2*l+m-2*k-2);\n",
    "                sinTerm = pow(math.sin(theta/2), 2*k-m+2);\n",
    "\n",
    "                dlmTmp = (A/B)*cosTerm*sinTerm;\n",
    "                dlm = dlm+dlmTmp\n",
    "\n",
    "            Ylm = math.sqrt((2*l+1)/(4*math.pi))*dlm\n",
    "            globals()['sph' + str(l) + str(m)] = Ylm\n",
    "    \n",
    "    #length = min(len(hpl2m2Vec),len(hpl3m2Vec),len(hpl4m4Vec))\n",
    "    \n",
    "    if q==1:\n",
    "        length = min(len(hpl2m2Vec),len(hpl4m4Vec))#,len(hpl3m2Vec))\n",
    "        hpVec=(sph22*hpl2m2Vec[len(hpl2m2Vec)-length:])+(sph44*hpl4m4Vec[len(hpl4m4Vec)-length:])#+(sph32*hpl3m2Vec[len(hpl3m2Vec)-length:])\n",
    "        tVec_NR=tl2m2Vec[len(hpl2m2Vec)-length:]\n",
    "    else:\n",
    "        length = min(len(hpl2m2Vec),len(hpl3m3Vec),len(hpl4m4Vec),len(hpl5m5Vec))#,len(hpl2m1Vec),len(hpl3m2Vec),len(hpl4m3Vec))\n",
    "        hpVec=(sph22*hpl2m2Vec[len(hpl2m2Vec)-length:])+(sph33*hpl3m3Vec[len(hpl3m3Vec)-length:])+(sph44*hpl4m4Vec[len(hpl4m4Vec)-length:])+(sph55*hpl5m5Vec[len(hpl5m5Vec)-length:])#+(sph21*hpl2m1Vec[len(hpl2m1Vec)-length:])+(sph32*hpl3m2Vec[len(hpl3m2Vec)-length:])+(sph43*hpl4m3Vec[len(hpl4m3Vec)-length:])\n",
    "        tVec_NR=tl2m2Vec[len(hpl2m2Vec)-length:]\n",
    "    \n",
    "    \n",
    "    for i in tqdm(range(35,201,5)):\n",
    "        \n",
    "        M1=i*q/(q+1)\n",
    "        M2=i/(q+1)\n",
    "        M=i\n",
    "        M_SI=M*MSUN_SI\n",
    "        D_SI=(10**(6))*PC_SI\n",
    "        tVec_SI=tVec_NR*M*MTSUN_SI;\n",
    "        hpVec_SI=hpVec*G_SI*M_SI/D_SI/C_SI/C_SI;\n",
    "        delta_t_NR=np.mean(np.diff(tVec_SI))\n",
    "        \n",
    "        mergIdx=np.argmax(hpVec_SI)\n",
    "        tVec_SI_shifted=tVec_SI-tVec_SI[mergIdx]\n",
    "        \n",
    "        #tSI, hpVecSI = intp(tVec_SI_shifted,hpVec_SI)\n",
    "    \n",
    "        hpVec_SI = TimeSeries(hpVec_SI, delta_t=delta_t_NR, epoch=-delta_t_NR*mergIdx)\n",
    "        #delt = np.mean(np.diff(tSI))\n",
    "        #hpVec_SI = TimeSeries(hpVecSI, delta_t=delt, epoch=tSI[0])\n",
    "    \n",
    "        if f_ini == 1:\n",
    "            flow = freq(i)\n",
    "        else:\n",
    "            flow = f_ini**(3/2)/(i*MTSUN_SI*math.pi)\n",
    "            \n",
    "        #flow = freq(i)\n",
    "\n",
    "        #hp, hc= get_td_waveform(approximant=appx,\n",
    "                                 #mass1=M1,\n",
    "                                 #mass2=M2,\n",
    "                                 #delta_t=delta_t_NR,\n",
    "                                 #f_lower=flow,\n",
    "                                 #distance=1,inclination=theta)\n",
    "        \n",
    "        hp, hp = eccmodel(M,q,e,li,flow,inclination=theta,d=1,delta_t=delta_t_NR)\n",
    "        #hp, hp = eccmodel(M,q,e,li,flow,inclination=theta,d=1,delta_t=delt)\n",
    "    \n",
    "        sp=hpVec_SI\n",
    "        # Resize the waveforms to the same length\n",
    "        tlen = max(len(sp), len(hp))\n",
    "        sp.resize(tlen)\n",
    "        hp.resize(tlen)\n",
    "        # Generate the aLIGO ZDHP PSD\n",
    "        delta_f = 1.0 / sp.duration\n",
    "        flen = tlen//2 + 1\n",
    "        f_low = 20 #flow\n",
    "        psd = aLIGOZeroDetHighPower(flen, delta_f, f_low)\n",
    "        # Note: This takes a while the first time as an FFT plan is generated\n",
    "        # subsequent calls are much faster.\n",
    "        m, i = match(hp, sp, psd=psd, low_frequency_cutoff=f_low)\n",
    "        mismatch=1-m\n",
    "    \n",
    "        #print('The match is: {:.4f}'.format(m))\n",
    "    \n",
    "        mass_array.append(M)\n",
    "        match_array.append(m)\n",
    "        mismatch_array.append(mismatch)\n",
    "        \n",
    "    return(mass_array,mismatch_array)"
   ]
  },
  {
   "cell_type": "code",
   "execution_count": 40,
   "metadata": {},
   "outputs": [],
   "source": [
    "hyb = ['1355','1356','1357','1358','1359','1360','1361','1362','1363','1364','1365','1366','1367','1368','1369','1370','1371','1372','1373','1374']\n",
    "q0 = [1,1,1,1,1,1,1,1,1,2,2,2,2,2,2,2,3,3,3,3]\n",
    "l0 = [1.423,1.574,0.451,-2.682,1.834,-0.395,-1.019,-0.507,-0.912,-0.181,-1.127,-2.890,1.687,0.420,-0.203,3.063,0.665,3.005,1.682,3.114]\n",
    "e0 = [0.120,0.163,0.227,0.227,0.227,0.299,0.299,0.373,0.373,0.120,0.145,0.228,0.228,0.228,0.373,0.373,0.142,0.209,0.209,0.359]"
   ]
  },
  {
   "cell_type": "code",
   "execution_count": 57,
   "metadata": {},
   "outputs": [
    {
     "name": "stdout",
     "output_type": "stream",
     "text": [
      "10\n"
     ]
    }
   ],
   "source": [
    "#hyb = ['1355','1356','1357','1358','1359','1360','1361','1362','1363']\n",
    "#hyb = ['1364','1365','1366','1367','1368','1369','1370']\n",
    "#hyb = ['1371','1372','1373','1374']\n",
    "#apx='SEOBNRv4HM'\n",
    "inc = 10\n",
    "print(inc)"
   ]
  },
  {
   "cell_type": "code",
   "execution_count": 58,
   "metadata": {
    "scrolled": true
   },
   "outputs": [
    {
     "name": "stderr",
     "output_type": "stream",
     "text": [
      "100%|████████████████████████████████████████████████████████████████| 34/34 [03:12<00:00,  5.65s/it]\n",
      "100%|████████████████████████████████████████████████████████████████| 34/34 [03:00<00:00,  5.32s/it]\n",
      "100%|████████████████████████████████████████████████████████████████| 34/34 [03:13<00:00,  5.68s/it]\n",
      "100%|████████████████████████████████████████████████████████████████| 34/34 [03:18<00:00,  5.83s/it]\n",
      "100%|████████████████████████████████████████████████████████████████| 34/34 [03:18<00:00,  5.84s/it]\n",
      "100%|████████████████████████████████████████████████████████████████| 34/34 [03:04<00:00,  5.42s/it]\n",
      "100%|████████████████████████████████████████████████████████████████| 34/34 [03:05<00:00,  5.46s/it]\n",
      "100%|████████████████████████████████████████████████████████████████| 34/34 [03:01<00:00,  5.34s/it]\n",
      "100%|████████████████████████████████████████████████████████████████| 34/34 [02:59<00:00,  5.29s/it]\n",
      "100%|████████████████████████████████████████████████████████████████| 34/34 [03:45<00:00,  6.63s/it]\n",
      "100%|████████████████████████████████████████████████████████████████| 34/34 [03:46<00:00,  6.65s/it]\n",
      "100%|████████████████████████████████████████████████████████████████| 34/34 [03:43<00:00,  6.58s/it]\n",
      "100%|████████████████████████████████████████████████████████████████| 34/34 [03:44<00:00,  6.60s/it]\n",
      "100%|████████████████████████████████████████████████████████████████| 34/34 [03:46<00:00,  6.65s/it]\n",
      "100%|████████████████████████████████████████████████████████████████| 34/34 [03:18<00:00,  5.85s/it]\n",
      "100%|████████████████████████████████████████████████████████████████| 34/34 [03:24<00:00,  6.01s/it]\n",
      "100%|████████████████████████████████████████████████████████████████| 34/34 [04:14<00:00,  7.49s/it]\n",
      "100%|████████████████████████████████████████████████████████████████| 34/34 [04:15<00:00,  7.50s/it]\n",
      "100%|████████████████████████████████████████████████████████████████| 34/34 [04:15<00:00,  7.52s/it]\n",
      "100%|████████████████████████████████████████████████████████████████| 34/34 [03:47<00:00,  6.69s/it]\n"
     ]
    }
   ],
   "source": [
    "for i in range(0,len(hyb)):\n",
    "    hname = hyb[i]\n",
    "    q = q0[i]\n",
    "    e = e0[i]\n",
    "    li = l0[i]\n",
    "    \n",
    "    #hfile = [hname+'hyb_HM_l2m2.h5',hname+'hyb_HM_l2m1.h5',hname+'hyb_HM_l3m3.h5',hname+'hyb_HM_l3m2.h5',hname+'hyb_HM_l4m4.h5',hname+'hyb_HM_l4m3.h5',hname+'hyb_HM_l5m5.h5']\n",
    "    #hfile = [hname+'hyb_HM_l2m2.h5',hname+'hyb_HM_l3m3.h5',hname+'hyb_HM_l4m4.h5',hname+'hyb_HM_l5m5.h5']\n",
    "    hfile = [hname+'hyb_EccTD_xlow045_GM.h5',hname+'hyb_HM_l3m3.h5',hname+'hyb_HM_l4m4.h5',hname+'hyb_HM_l5m5.h5']\n",
    "    \n",
    "    #hf=h5py.File('/home/croyt/GW_codes/match_circvsHMhyb/'+hfile[0],'r')\n",
    "    hf=h5py.File('/home/croyt/GW_codes/hybrid_data/EccTD_hybrids/'+hfile[0],'r')\n",
    "    data = hf['l2_m2']\n",
    "    tl2m2Vec = np.real(data[:,0])\n",
    "    hpl2m2Vec = np.real(data[:,1])\n",
    "\n",
    "    #hf=h5py.File('/home/croyt/GW_codes/match_circvsHMhyb/'+hfile[3],'r')\n",
    "    #data = hf['l3_m2']\n",
    "    #hpl3m2Vec = np.real(data[:,1])\n",
    "\n",
    "    hf=h5py.File('/home/croyt/GW_codes/match_circvsHMhyb/'+hfile[2],'r')\n",
    "    data = hf['l4_m4']\n",
    "    hpl4m4Vec = np.real(data[:,1])\n",
    "    \n",
    "    \n",
    "    \n",
    "    if q>1:\n",
    "        #print('q>1')\n",
    "        \n",
    "        #hf=h5py.File('/home/croyt/GW_codes/match_circvsHMhyb/'+hfile[1],'r')\n",
    "        #data = hf['l2_m1']\n",
    "        #hpl2m1Vec = np.real(data[:,1])\n",
    "\n",
    "        hf=h5py.File('/home/croyt/GW_codes/match_circvsHMhyb/'+hfile[1],'r')\n",
    "        data = hf['l3_m3']\n",
    "        hpl3m3Vec = np.real(data[:,1])\n",
    "        \n",
    "        #hf=h5py.File('/home/croyt/GW_codes/match_circvsHMhyb/'+hfile[5],'r')\n",
    "        #data = hf['l4_m3']\n",
    "        #hpl4m3Vec = np.real(data[:,1])\n",
    "\n",
    "        hf=h5py.File('/home/croyt/GW_codes/match_circvsHMhyb/'+hfile[3],'r')\n",
    "        data = hf['l5_m5']\n",
    "        hpl5m5Vec = np.real(data[:,1])\n",
    "        \n",
    "    \n",
    "    \n",
    "    Mtot,globals()['match' + str(hname)] = loop(inc)\n",
    "    "
   ]
  },
  {
   "cell_type": "code",
   "execution_count": 99,
   "metadata": {},
   "outputs": [],
   "source": [
    "hfile = ['1167_EccTD_Ebersold_HM.h5','1221_EccTD_Ebersold_HM.h5']\n",
    "q0 = [2,3]"
   ]
  },
  {
   "cell_type": "code",
   "execution_count": 100,
   "metadata": {},
   "outputs": [
    {
     "data": {
      "text/plain": [
       "'1221'"
      ]
     },
     "execution_count": 100,
     "metadata": {},
     "output_type": "execute_result"
    }
   ],
   "source": [
    "hfile[1][0:4]"
   ]
  },
  {
   "cell_type": "code",
   "execution_count": 101,
   "metadata": {
    "scrolled": true
   },
   "outputs": [
    {
     "name": "stderr",
     "output_type": "stream",
     "text": [
      "100%|████████████████████████████████████████████████████████████████| 34/34 [00:32<00:00,  1.06it/s]\n",
      "100%|████████████████████████████████████████████████████████████████| 34/34 [00:35<00:00,  1.03s/it]\n"
     ]
    }
   ],
   "source": [
    "for i in range(0,len(hfile)) :\n",
    "    q = q0[i]\n",
    "    \n",
    "    hf=h5py.File('/home/croyt/GW_codes/match_circ/'+hfile[i],'r')\n",
    "    data = hf['l2_m2']\n",
    "    tl2m2Vec = np.real(data[:,0])\n",
    "    hpl2m2Vec = np.real(data[:,1])\n",
    "\n",
    "    data = hf['l2_m1']\n",
    "    hpl2m1Vec = np.real(data[:,1])\n",
    "\n",
    "    data = hf['l3_m3']\n",
    "    hpl3m3Vec = np.real(data[:,1])\n",
    "\n",
    "    data = hf['l3_m2']\n",
    "    hpl3m2Vec = np.real(data[:,1])\n",
    "\n",
    "    data = hf['l4_m4']\n",
    "    hpl4m4Vec = np.real(data[:,1]) \n",
    "\n",
    "    data = hf['l4_m3']\n",
    "    hpl4m3Vec = np.real(data[:,1]) \n",
    "\n",
    "    data = hf['l5_m5']\n",
    "    hpl5m5Vec = np.real(data[:,1]) \n",
    "\n",
    "    Mtot,globals()['match' + str(hfile[i][0:4])] = loop(inc,apx)"
   ]
  },
  {
   "cell_type": "code",
   "execution_count": 10,
   "metadata": {
    "scrolled": true
   },
   "outputs": [
    {
     "data": {
      "text/plain": [
       "0.04849692119188381"
      ]
     },
     "execution_count": 10,
     "metadata": {},
     "output_type": "execute_result"
    }
   ],
   "source": [
    "(0.01068)**(2/3)"
   ]
  },
  {
   "cell_type": "code",
   "execution_count": 102,
   "metadata": {},
   "outputs": [],
   "source": [
    "hf=h5py.File('/home/croyt/GW_codes/match_circ/1132_rhOverM_Asymptotic_GeometricUnits_CoM.h5','r')\n",
    "q = 1\n",
    "data = hf['OutermostExtraction.dir']['Y_l2_m2.dat']\n",
    "x1 = np.real(data[:,0])\n",
    "plotband=np.where(x1>=170)\n",
    "t1 = np.real(data[:,0][plotband])\n",
    "h1 = np.real(data[:,1][plotband])\n",
    "tl2m2Vec, hpl2m2Vec = intp(t1,h1)\n",
    "\n",
    "data = hf['OutermostExtraction.dir']['Y_l3_m2.dat']\n",
    "x1 = np.real(data[:,0])\n",
    "plotband=np.where(x1>=170)\n",
    "h1 = np.real(data[:,1][plotband])\n",
    "tl2m2Vec, hpl3m2Vec = intp(t1,h1)\n",
    "\n",
    "data = hf['OutermostExtraction.dir']['Y_l4_m4.dat']\n",
    "x1 = np.real(data[:,0])\n",
    "plotband=np.where(x1>=170)\n",
    "h1 = np.real(data[:,1][plotband])\n",
    "tl2m2Vec, hpl4m4Vec = intp(t1,h1)\n",
    "\n",
    "#Mtot,globals()['match' + str(1132)] = loop(inc,apx,0.041)"
   ]
  },
  {
   "cell_type": "code",
   "execution_count": null,
   "metadata": {},
   "outputs": [],
   "source": []
  },
  {
   "cell_type": "code",
   "execution_count": 7,
   "metadata": {},
   "outputs": [],
   "source": [
    "estr = [0.120,0.163,0.227,0.227,0.227,0.299,0.299,0.373,0.373,0.120,0.145,0.228,0.228,0.228,0.373,0.373,0.142,0.209,0.209,0.359]"
   ]
  },
  {
   "cell_type": "code",
   "execution_count": 8,
   "metadata": {},
   "outputs": [
    {
     "name": "stdout",
     "output_type": "stream",
     "text": [
      "[0.1  0.13 0.16 0.19 0.22 0.25 0.28 0.31 0.34 0.37 0.4 ]\n"
     ]
    }
   ],
   "source": [
    "#tick = np.linspace(0.1,0.4,7)  #low\n",
    "tick = np.linspace(0.1,0.4,11)\n",
    "tick = np.around(tick,decimals=2)\n",
    "print(tick)"
   ]
  },
  {
   "cell_type": "code",
   "execution_count": 17,
   "metadata": {},
   "outputs": [],
   "source": [
    "from matplotlib.ticker import LogFormatter\n",
    "from matplotlib import rc\n",
    "rc('font', **{'family': 'serif', 'serif': ['Computer Modern']})\n",
    "rc('text', usetex=True)\n",
    "plt.rc('text.latex', preamble=r'\\usepackage{mathrsfs}')"
   ]
  },
  {
   "cell_type": "code",
   "execution_count": 9,
   "metadata": {},
   "outputs": [],
   "source": [
    "plt.rc('xtick', labelsize=14) \n",
    "plt.rc('ytick', labelsize=14) \n",
    "mpl.rcParams['xtick.major.size'] = 12\n",
    "mpl.rcParams['xtick.major.width'] = 1\n",
    "mpl.rcParams['xtick.minor.size'] = 8\n",
    "mpl.rcParams['xtick.minor.width'] = 1\n",
    "mpl.rcParams['ytick.major.size'] = 12\n",
    "mpl.rcParams['ytick.major.width'] = 1\n",
    "mpl.rcParams['ytick.minor.size'] = 8\n",
    "mpl.rcParams['ytick.minor.width'] = 1"
   ]
  },
  {
   "cell_type": "code",
   "execution_count": 62,
   "metadata": {},
   "outputs": [
    {
     "name": "stderr",
     "output_type": "stream",
     "text": [
      "/tmp/ipykernel_8751/2099522644.py:52: UserWarning: FixedFormatter should only be used together with FixedLocator\n",
      "  cbar.ax.set_yticklabels(tick)\n"
     ]
    },
    {
     "data": {
      "image/png": "[encoded data removed]",
      "text/plain": [
       "<Figure size 504x345.6 with 2 Axes>"
      ]
     },
     "metadata": {
      "needs_background": "light"
     },
     "output_type": "display_data"
    }
   ],
   "source": [
    "plt.figure(figsize=(7,4.8))   #7,5\n",
    "#N = int((0.25-0.1)/0.02) #low\n",
    "#N = int((0.4-0.1)/0.02)\n",
    "binl = 0.001\n",
    "N = int((0.4-0.1)/binl)\n",
    "cmap = plt.get_cmap('rainbow', N)\n",
    "#colors = pl.cm.jet(np.linspace(0,1,N))\n",
    "sm = plt.cm.ScalarMappable(cmap=cmap)#, norm=norm)\n",
    "lw = [2,0.8,1.2,1.5]\n",
    "lsty=['-','--',':']\n",
    "\n",
    "plt.axhline(y = 1-0.965, color = 'k', linestyle = '-',linewidth = 1)\n",
    "plt.axhline(y = 1-0.99, color = 'k', linestyle = '-',linewidth = 1)\n",
    "#'''\n",
    "plt.plot(Mtot,np.array(match1355),linestyle=lsty[0],linewidth = lw[2],c=cmap(int((estr[0]-0.1)/binl)))\n",
    "plt.plot(Mtot,np.array(match1356),linestyle=lsty[0],linewidth = lw[2],c=cmap(int((estr[1]-0.1)/binl)))\n",
    "plt.plot(Mtot,np.array(match1357),linestyle=lsty[0],linewidth = lw[2],c=cmap(int((estr[2]-0.1)/binl)))\n",
    "plt.plot(Mtot,np.array(match1358),linestyle=lsty[0],linewidth = lw[2],c=cmap(int((estr[3]-0.1)/binl)))\n",
    "plt.plot(Mtot,np.array(match1359),linestyle=lsty[0],linewidth = lw[2],c=cmap(int((estr[4]-0.1)/binl)))\n",
    "plt.plot(Mtot,np.array(match1360),linestyle=lsty[0],linewidth = lw[2],c=cmap(int((estr[5]-0.1)/binl)))\n",
    "plt.plot(Mtot,np.array(match1361),linestyle=lsty[0],linewidth = lw[2],c=cmap(int((estr[6]-0.1)/binl)))\n",
    "plt.plot(Mtot,np.array(match1362),linestyle=lsty[0],linewidth = lw[2],c=cmap(int((estr[7]-0.1)/binl)))\n",
    "plt.plot(Mtot,np.array(match1363),linestyle=lsty[0],linewidth = lw[2],c=cmap(int((estr[8]-0.1)/binl)))\n",
    "\n",
    "plt.plot(Mtot,np.array(match1364),linestyle=lsty[1],linewidth = lw[2],c=cmap(int((estr[9]-0.1)/binl)))\n",
    "plt.plot(Mtot,np.array(match1365),linestyle=lsty[1],linewidth = lw[2],c=cmap(int((estr[10]-0.1)/binl)))\n",
    "plt.plot(Mtot,np.array(match1366),linestyle=lsty[1],linewidth = lw[2],c=cmap(int((estr[11]-0.1)/binl)))\n",
    "plt.plot(Mtot,np.array(match1367),linestyle=lsty[1],linewidth = lw[2],c=cmap(int((estr[12]-0.1)/binl)))\n",
    "plt.plot(Mtot,np.array(match1368),linestyle=lsty[1],linewidth = lw[2],c=cmap(int((estr[13]-0.1)/binl)))\n",
    "plt.plot(Mtot,np.array(match1369),linestyle=lsty[1],linewidth = lw[2],c=cmap(int((estr[14]-0.1)/binl)))\n",
    "plt.plot(Mtot,np.array(match1370),linestyle=lsty[1],linewidth = lw[2],c=cmap(int((estr[15]-0.1)/binl)))\n",
    "\n",
    "plt.plot(Mtot,np.array(match1371),linestyle=lsty[2],linewidth = lw[2],c=cmap(int((estr[16]-0.1)/binl)))\n",
    "plt.plot(Mtot,np.array(match1372),linestyle=lsty[2],linewidth = lw[2],c=cmap(int((estr[17]-0.1)/binl)))\n",
    "plt.plot(Mtot,np.array(match1373),linestyle=lsty[2],linewidth = lw[2],c=cmap(int((estr[18]-0.1)/binl)))\n",
    "plt.plot(Mtot,np.array(match1374),linestyle=lsty[2],linewidth = lw[2],c=cmap(int((estr[19]-0.1)/binl)))\n",
    "#'''\n",
    "#plt.plot(Mtot,np.array(match1132),linestyle=lsty[0],linewidth = lw[3],color='grey',alpha=0.8)\n",
    "#plt.plot(Mtot,np.array(match1167),linestyle=lsty[1],linewidth = lw[3],color='grey',alpha=0.8)\n",
    "#plt.plot(Mtot,np.array(match1221),linestyle=lsty[2],linewidth = lw[3],color='grey',alpha=0.8)\n",
    "\n",
    "#plt.plot(Mtot,np.array(match221132),linestyle=lsty[0],linewidth = lw[3],color='grey')\n",
    "\n",
    "\n",
    "\n",
    "\n",
    "cbar = plt.colorbar(sm,pad=0.01)\n",
    "tick_locator = ticker.MaxNLocator(nbins=11)\n",
    "cbar.locator = tick_locator\n",
    "cbar.update_ticks()\n",
    "\n",
    "cbar.ax.set_yticklabels(tick)\n",
    "cbar.set_label(label='Eccentricity$(e_o)$',size=15)\n",
    "#cbar.set_ticklabels([\"22\", \"21\", \"33\", \"32\",\"44\",\"43\",\"55\"])\n",
    "cbar.ax.tick_params(labelsize=14,width=1.5, length=5)\n",
    "cbar.ax.tick_params(which=\"minor\",width=1, length=3)\n",
    "cbar.ax.tick_params(which=\"major\",width=1, length=6)\n",
    "\n",
    "plt.title(r'$\\iota = \\pi\\,/\\,18$', fontsize = 15, loc = 'center')\n",
    "plt.ylim(ymax=6.5e-1)\n",
    "plt.ylim(ymin=4e-4)\n",
    "#plt.ylim(ymin=1e-3)\n",
    "plt.xlim(xmin=35)\n",
    "plt.xlim(xmax=200)\n",
    "\n",
    "plt.yscale('log')\n",
    "#plt.title(\"PN-NR\",fontsize=18)\n",
    "plt.ylabel(r'$1-\\mathscr{M}$',fontsize=15)\n",
    "plt.xlabel(r'$M/M_\\odot$',fontsize=15)\n",
    "\n",
    "\n",
    "#plt.grid()\n",
    "#plt.legend(loc=2,ncol=2,prop={'size': 15},bbox_to_anchor=(1, 0.5))\n",
    "#plt.legend(loc=2,ncol=2,prop={'size': 30})\n",
    "\n",
    "\n",
    "#from matplotlib.patches import Rectangle\n",
    "from matplotlib.lines import Line2D\n",
    "#from matplotlib.legend_handler import HandlerBase\n",
    "\n",
    "#class HandlerColormap(HandlerBase):\n",
    "#    def __init__(self, cmap, num_stripes=8, **kw):\n",
    "#        HandlerBase.__init__(self, **kw)\n",
    "#        self.cmap = cmap\n",
    "#        self.num_stripes = num_stripes\n",
    "#    def create_artists(self, legend, orig_handle, \n",
    "#                       xdescent, ydescent, width, height, fontsize, trans):\n",
    "#        stripes = []\n",
    "#        for i in range(self.num_stripes):\n",
    "#            s = Rectangle([xdescent + i * width / self.num_stripes, ydescent+7], \n",
    "#                          width / self.num_stripes, \n",
    "#                          height/4.5, \n",
    "#                          fc=self.cmap((2 * i + 1) / (2 * self.num_stripes)), \n",
    "#                          transform=trans)\n",
    "#            stripes.append(s)\n",
    "#        return stripes\n",
    "\n",
    "x_array = np.linspace(10000, 10001, 1)\n",
    "y_array = x_array\n",
    "param_max = x_array.size\n",
    "#cmaps = [plt.get_cmap('Set2', 7)]##)]#[plt.cm.Set2]  # set of colormaps \n",
    "                                        # (as many as there are groups of lines)\n",
    "\n",
    "for param, (x, y) in enumerate(zip(x_array, y_array)):  \n",
    "    x_line1 = np.linspace(x, 1.5 * x, 10)\n",
    "    y_line1 = np.linspace(y**2, y**2 - x, 10)\n",
    "    x_line2 = np.linspace(x, 1.5 * x, 10)\n",
    "    y_line2 = np.linspace(y**2, y**2 - x, 10)\n",
    "    x_line3 = np.linspace(x, 1.5 * x, 10)\n",
    "    y_line3 = np.linspace(y**2, y**2 - x, 10)\n",
    "\n",
    "    # plot lines with color depending on param using different colormaps:\n",
    "    #plt.plot(x_line1, y_line1, c=cmaps[0](param / param_max))\n",
    "    plt.plot(x_line1, y_line1)\n",
    "    plt.plot(x_line2, y_line2)\n",
    "    plt.plot(x_line3, y_line3)\n",
    "\n",
    "\n",
    "lgd1 = Line2D([0], [0], color='black', linewidth=lw[2],linestyle=lsty[0])   \n",
    "lgd2 = Line2D([0], [0], color='black', linewidth=lw[2],linestyle=lsty[1])  \n",
    "lgd3 = Line2D([0], [0], color='black', linewidth=lw[2],linestyle=lsty[2])  \n",
    "    \n",
    "cmap_labels = [r\"$q=1$\",r\"$q=2$\",r\"$q=3$\"]\n",
    "## create proxy artists as handles:\n",
    "##cmap_handles = [Rectangle((0, 0), 1, 1) for _ in cmaps]\n",
    "##cmap_handles = [Rectangle((0, 0), 1, 1)]\n",
    "cmap_handles = []\n",
    "cmap_handles.append(lgd1)\n",
    "cmap_handles.append(lgd2)\n",
    "cmap_handles.append(lgd3)\n",
    "##handler_map = dict(zip(cmap_handles, [HandlerColormap(cm, num_stripes=7) for cm in cmaps]))\n",
    "plt.legend(handles=cmap_handles, \n",
    "           labels=cmap_labels, \n",
    "           ncol = 1, loc=4 ,bbox_to_anchor=(0.98,0.02),prop={'size': 15})\n",
    "        \n",
    "#plt.axvline(x=100,linestyle='--',color='grey',linewidth=1,dashes=(10,4),alpha=0.7)\n",
    "\n",
    "plt.tight_layout()\n",
    "#plt.tick_params(axis='x', which='minor', bottom=False, top=False)        \n",
    "#plt.savefig('match_IMRPhenomXHM_fref_PIby4_20flow_v2.pdf')\n",
    "#plt.savefig('match_SEOBNRv4HM_fref_PIby2_20flow.pdf')\n",
    "#plt.savefig('match_SEOBNRv4HM_circ_zero.pdf')\n",
    "#plt.savefig('match_HMmodelvsHyb_leqm_PIby18.pdf')\n",
    "#plt.savefig('match_HMmodelvsHyb_leqm_EccTD_PIby18.pdf')"
   ]
  },
  {
   "cell_type": "code",
   "execution_count": null,
   "metadata": {},
   "outputs": [],
   "source": []
  },
  {
   "cell_type": "code",
   "execution_count": null,
   "metadata": {},
   "outputs": [],
   "source": []
  }
 ],
 "metadata": {
  "kernelspec": {
   "display_name": "pycbc",
   "language": "python",
   "name": "pycbc"
  },
  "language_info": {
   "codemirror_mode": {
    "name": "ipython",
    "version": 3
   },
   "file_extension": ".py",
   "mimetype": "text/x-python",
   "name": "python",
   "nbconvert_exporter": "python",
   "pygments_lexer": "ipython3",
   "version": "3.8.10"
  }
 },
 "nbformat": 4,
 "nbformat_minor": 2
}
